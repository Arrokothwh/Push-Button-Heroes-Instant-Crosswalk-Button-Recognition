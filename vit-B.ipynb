{
 "cells": [
  {
   "cell_type": "markdown",
   "metadata": {},
   "source": [
    "Download torch and torchvision"
   ]
  },
  {
   "cell_type": "code",
   "execution_count": 1,
   "metadata": {},
   "outputs": [],
   "source": [
    "# pip install torch\n",
    "# pip install timm"
   ]
  },
  {
   "cell_type": "code",
   "execution_count": 2,
   "metadata": {},
   "outputs": [],
   "source": [
    "# pip install torchvision"
   ]
  },
  {
   "cell_type": "markdown",
   "metadata": {},
   "source": [
    "Initialization"
   ]
  },
  {
   "cell_type": "code",
   "execution_count": 3,
   "metadata": {},
   "outputs": [
    {
     "name": "stderr",
     "output_type": "stream",
     "text": [
      "c:\\Users\\Dell\\AppData\\Local\\Programs\\Python\\Python313\\Lib\\site-packages\\tqdm\\auto.py:21: TqdmWarning: IProgress not found. Please update jupyter and ipywidgets. See https://ipywidgets.readthedocs.io/en/stable/user_install.html\n",
      "  from .autonotebook import tqdm as notebook_tqdm\n"
     ]
    },
    {
     "name": "stdout",
     "output_type": "stream",
     "text": [
      "1.0.15\n",
      "['convit_base', 'crossvit_base_240', 'davit_base', 'davit_base_fl', 'flexivit_base', 'gcvit_base', 'maxvit_base_tf_224', 'maxvit_base_tf_384', 'maxvit_base_tf_512', 'nextvit_base', 'samvit_base_patch16', 'samvit_base_patch16_224', 'vit_base_mci_224', 'vit_base_patch8_224', 'vit_base_patch14_dinov2', 'vit_base_patch14_reg4_dinov2', 'vit_base_patch16_18x2_224', 'vit_base_patch16_224', 'vit_base_patch16_224_miil', 'vit_base_patch16_384', 'vit_base_patch16_clip_224', 'vit_base_patch16_clip_384', 'vit_base_patch16_clip_quickgelu_224', 'vit_base_patch16_gap_224', 'vit_base_patch16_plus_240', 'vit_base_patch16_plus_clip_240', 'vit_base_patch16_reg4_gap_256', 'vit_base_patch16_rope_reg1_gap_256', 'vit_base_patch16_rpn_224', 'vit_base_patch16_siglip_224', 'vit_base_patch16_siglip_256', 'vit_base_patch16_siglip_384', 'vit_base_patch16_siglip_512', 'vit_base_patch16_siglip_gap_224', 'vit_base_patch16_siglip_gap_256', 'vit_base_patch16_siglip_gap_384', 'vit_base_patch16_siglip_gap_512', 'vit_base_patch16_xp_224', 'vit_base_patch32_224', 'vit_base_patch32_384', 'vit_base_patch32_clip_224', 'vit_base_patch32_clip_256', 'vit_base_patch32_clip_384', 'vit_base_patch32_clip_448', 'vit_base_patch32_clip_quickgelu_224', 'vit_base_patch32_plus_256', 'vit_base_patch32_siglip_256', 'vit_base_patch32_siglip_gap_256', 'vit_base_r26_s32_224', 'vit_base_r50_s16_224', 'vit_base_r50_s16_384', 'vit_base_resnet26d_224', 'vit_base_resnet50d_224']\n",
      "GPU: NVIDIA GeForce RTX 4070 Laptop GPU is available.\n"
     ]
    }
   ],
   "source": [
    "import torch\n",
    "import timm\n",
    "print(timm.__version__)\n",
    "print([m for m in timm.list_models() if 'vit_base' in m])\n",
    "import torch.nn as nn\n",
    "import torch.optim as optim\n",
    "from torch.utils.data import sampler, Dataset, DataLoader, SubsetRandomSampler\n",
    "from torchvision.transforms import v2\n",
    "from torchvision.datasets import ImageFolder\n",
    "import pandas as pd\n",
    "import numpy as np\n",
    "\n",
    "USE_GPU = True\n",
    "dtype = torch.float32 \n",
    "if torch.cuda.is_available():\n",
    "    device = torch.device('cuda')\n",
    "    print(f\"GPU: {torch.cuda.get_device_name(0)} is available.\")\n",
    "else:\n",
    "    device = torch.device('cpu')\n",
    "    print(\"No GPU available. Training will run on CPU.\")"
   ]
  },
  {
   "cell_type": "markdown",
   "metadata": {},
   "source": [
    "If the output is \"using device: cpu\": download CUDA toolkit (https://developer.nvidia.com/cuda-downloads)\n",
    "https://pytorch.org/get-started/locally/"
   ]
  },
  {
   "cell_type": "code",
   "execution_count": 4,
   "metadata": {},
   "outputs": [],
   "source": [
    "# data augmentation\n",
    "transform = v2.Compose([\n",
    "                v2.ToImage(), \n",
    "                v2.Resize((224, 224)), \n",
    "                v2.ToDtype(torch.float32, scale=True),\n",
    "                # v2.RandomHorizontalFlip(),\n",
    "                v2.ColorJitter(brightness=(0.5, 1.5), contrast=(0.5, 1.5), saturation=(0.5, 1.5), hue=(-0.3, 0.3)),\n",
    "                v2.RandomChannelPermutation(),\n",
    "                v2.RandomErasing(p=0.5, scale=(0.05, 0.3), ratio=(1, 1), value='random'),\n",
    "                v2.RandomRotation(degrees=30)])"
   ]
  },
  {
   "cell_type": "code",
   "execution_count": 5,
   "metadata": {},
   "outputs": [],
   "source": [
    "class CropButtonDataset(Dataset):\n",
    "    def __init__(self, data_dir, transform = None):\n",
    "        self.data = ImageFolder(data_dir, transform=transform)\n",
    "    \n",
    "    def __len__(self):\n",
    "        return len(self.data)\n",
    "    \n",
    "    def __getitem__(self, index):\n",
    "        return self.data[index]\n",
    "    \n",
    "    # return classes\n",
    "    def classes(self):\n",
    "        return self.data.classes"
   ]
  },
  {
   "cell_type": "code",
   "execution_count": 6,
   "metadata": {},
   "outputs": [],
   "source": [
    "# creat a dictionary that maps index to label\n",
    "data_dir='ClassificationDataset_label/train'\n",
    "target_to_class = {v: k for k, v in ImageFolder(data_dir).class_to_idx.items()}"
   ]
  },
  {
   "cell_type": "code",
   "execution_count": 7,
   "metadata": {},
   "outputs": [],
   "source": [
    "button_train = CropButtonDataset('ClassificationDataset_label/train', transform=transform)\n",
    "loader_train = DataLoader(button_train, batch_size=200, shuffle=True)\n",
    "\n",
    "button_val = CropButtonDataset('ClassificationDataset_label/val', transform=transform)\n",
    "loader_val = DataLoader(button_val, batch_size=14, shuffle=True)\n",
    "\n",
    "button_test = CropButtonDataset('ClassificationDataset_label/test', transform=transform)\n",
    "loader_test = DataLoader(button_test, batch_size=14, shuffle=False)"
   ]
  },
  {
   "cell_type": "markdown",
   "metadata": {},
   "source": [
    "Check If load correctly"
   ]
  },
  {
   "cell_type": "code",
   "execution_count": 8,
   "metadata": {},
   "outputs": [
    {
     "data": {
      "text/plain": [
       "<torch.utils.data.dataloader.DataLoader at 0x260c90723c0>"
      ]
     },
     "execution_count": 8,
     "metadata": {},
     "output_type": "execute_result"
    }
   ],
   "source": [
    "loader_train"
   ]
  },
  {
   "cell_type": "code",
   "execution_count": 9,
   "metadata": {},
   "outputs": [
    {
     "name": "stdout",
     "output_type": "stream",
     "text": [
      "Batch loaded!\n",
      "Images shape: torch.Size([14, 3, 224, 224])\n",
      "Labels: tensor([0, 1, 0, 1, 1, 1, 1, 1, 0, 0, 1, 0, 0, 0])\n"
     ]
    }
   ],
   "source": [
    "for images, labels in loader_val:\n",
    "    print(\"Batch loaded!\")\n",
    "    print(\"Images shape:\", images.shape)\n",
    "    print(\"Labels:\", labels)\n",
    "    break\n"
   ]
  },
  {
   "cell_type": "markdown",
   "metadata": {},
   "source": [
    "Model setup"
   ]
  },
  {
   "cell_type": "code",
   "execution_count": 10,
   "metadata": {},
   "outputs": [],
   "source": [
    "import matplotlib.pyplot as plt\n",
    "import torch.nn.functional as F"
   ]
  },
  {
   "cell_type": "code",
   "execution_count": 11,
   "metadata": {},
   "outputs": [],
   "source": [
    "def check_accuracy_final(loader, model):\n",
    "    num_correct = 0\n",
    "    num_samples = 0\n",
    "    model.eval()\n",
    "    with torch.no_grad():\n",
    "        for x, y in loader:\n",
    "            x = x.to(device=device, dtype=dtype)\n",
    "            y = y.to(device=device, dtype=dtype).unsqueeze(1)\n",
    "            scores = model(x)\n",
    "            preds = (torch.sigmoid(scores) > 0.5).long()\n",
    "            num_correct += (preds == y.long()).sum()\n",
    "            num_samples += preds.size(0)\n",
    "        acc = float(num_correct) / num_samples\n",
    "        return acc\n",
    "\n",
    "def train(model, optimizer, epochs=10):\n",
    "    x1 = list(range(len(loader_train) * epochs))\n",
    "    x2 = []\n",
    "    y1 = []\n",
    "    y2 = []\n",
    "    model = model.to(device=device)\n",
    "    criterion = nn.BCEWithLogitsLoss()\n",
    "    cnt = 0\n",
    "    total_cnt = epochs * len(loader_train)\n",
    "    for e in range(epochs):\n",
    "        for t, (x, y) in enumerate(loader_train):\n",
    "            model.train()\n",
    "            x = x.to(device=device, dtype=dtype)\n",
    "            y = y.to(device=device, dtype=dtype).unsqueeze(1)\n",
    "\n",
    "            scores = model(x)\n",
    "            loss = criterion(scores, y)\n",
    "            optimizer.zero_grad()\n",
    "            loss.backward()\n",
    "            optimizer.step()\n",
    "\n",
    "            y1.append(loss.item())\n",
    "\n",
    "            print(\"iteration: \" +  str(cnt) + \"/\" + str(total_cnt) + \": loss = \" + str(loss.item()))\n",
    "            if cnt % 1 == 0:\n",
    "                acc_val = check_accuracy_final(loader_val, model)\n",
    "                print(\"val_acc = \" + str(acc_val))\n",
    "                x2.append(cnt)\n",
    "                y2.append(acc_val)\n",
    "\n",
    "            cnt += 1\n",
    "    return (x1, y1, x2, y2)\n",
    "\n",
    "def plotpic(data):\n",
    "  x1, y1, x2, y2 = data\n",
    "  plt.figure()\n",
    "  plt.plot(x1, y1, marker='.')\n",
    "  plt.xlabel('Iteratoin')\n",
    "  plt.ylabel('Loss')\n",
    "  plt.title('Loss')\n",
    "  plt.grid(True)\n",
    "\n",
    "  plt.figure()\n",
    "  plt.plot(x2, y2, marker='o')\n",
    "  plt.xlabel('Iteratoin')\n",
    "  plt.ylabel('Val Acc')\n",
    "  plt.title('Val Acc')\n",
    "  plt.grid(True)\n",
    "  plt.show()"
   ]
  },
  {
   "cell_type": "code",
   "execution_count": 12,
   "metadata": {},
   "outputs": [],
   "source": [
    "model = timm.create_model('vit_base_patch16_224', pretrained=True)\n",
    "in_features = model.head.in_features\n",
    "model.head = nn.Linear(in_features, 1)"
   ]
  },
  {
   "cell_type": "code",
   "execution_count": 13,
   "metadata": {},
   "outputs": [],
   "source": [
    "criterion = nn.BCEWithLogitsLoss()\n",
    "sgdMNb = optim.SGD(model.parameters(), lr=1e-2,\n",
    "                     momentum=0.8, nesterov=True)\n",
    "adamw = optim.AdamW(model.parameters(), lr=1e-2,\n",
    "                        weight_decay=1e-2)"
   ]
  },
  {
   "cell_type": "markdown",
   "metadata": {},
   "source": [
    "Train"
   ]
  },
  {
   "cell_type": "code",
   "execution_count": 14,
   "metadata": {},
   "outputs": [
    {
     "name": "stdout",
     "output_type": "stream",
     "text": [
      "iteration: 0/10: loss = 0.7582412958145142\n",
      "val_acc = 0.5\n",
      "iteration: 1/10: loss = 8.811063766479492\n",
      "val_acc = 0.5\n",
      "iteration: 2/10: loss = 15.11446762084961\n",
      "val_acc = 0.5\n",
      "iteration: 3/10: loss = 5.137413501739502\n",
      "val_acc = 0.5\n",
      "iteration: 4/10: loss = 7.697731971740723\n",
      "val_acc = 0.5\n",
      "iteration: 5/10: loss = 0.8950081467628479\n",
      "val_acc = 0.5\n",
      "iteration: 6/10: loss = 0.974947452545166\n",
      "val_acc = 0.5\n",
      "iteration: 7/10: loss = 1.7637070417404175\n",
      "val_acc = 0.5\n",
      "iteration: 8/10: loss = 0.8744762539863586\n",
      "val_acc = 0.5\n",
      "iteration: 9/10: loss = 0.8133690357208252\n",
      "val_acc = 0.5\n"
     ]
    }
   ],
   "source": [
    "data = train(model, adamw, epochs=10)"
   ]
  },
  {
   "cell_type": "code",
   "execution_count": 15,
   "metadata": {},
   "outputs": [],
   "source": [
    "# from itertools import product\n",
    "# lr = 10 ** np.random.uniform(-3, -6, (10,))\n",
    "# mm = np.random.uniform(0.8, 0.99, (10,))\n",
    "# for l, m in product(lr, mm):\n",
    "#     sgdMNb = optim.SGD(model.parameters(), lr=l,\n",
    "#                      momentum=m, nesterov=True)\n",
    "#     data = train(model, sgdMNb, epochs=10)"
   ]
  },
  {
   "cell_type": "code",
   "execution_count": 16,
   "metadata": {},
   "outputs": [
    {
     "data": {
      "image/png": "[encoded data removed]",
      "text/plain": [
       "<Figure size 640x480 with 1 Axes>"
      ]
     },
     "metadata": {},
     "output_type": "display_data"
    },
    {
     "data": {
      "image/png": "[encoded data removed]",
      "text/plain": [
       "<Figure size 640x480 with 1 Axes>"
      ]
     },
     "metadata": {},
     "output_type": "display_data"
    }
   ],
   "source": [
    "plotpic(data)"
   ]
  }
 ],
 "metadata": {
  "kernelspec": {
   "display_name": "Python 3",
   "language": "python",
   "name": "python3"
  },
  "language_info": {
   "codemirror_mode": {
    "name": "ipython",
    "version": 3
   },
   "file_extension": ".py",
   "mimetype": "text/x-python",
   "name": "python",
   "nbconvert_exporter": "python",
   "pygments_lexer": "ipython3",
   "version": "3.13.3"
  }
 },
 "nbformat": 4,
 "nbformat_minor": 2
}
