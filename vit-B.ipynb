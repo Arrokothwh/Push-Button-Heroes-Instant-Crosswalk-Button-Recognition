{
 "cells": [
  {
   "cell_type": "markdown",
   "metadata": {},
   "source": [
    "Download torch and torchvision"
   ]
  },
  {
   "cell_type": "code",
   "execution_count": 1,
   "metadata": {},
   "outputs": [],
   "source": [
    "# pip install torch\n",
    "# pip install timm"
   ]
  },
  {
   "cell_type": "code",
   "execution_count": 2,
   "metadata": {},
   "outputs": [],
   "source": [
    "# pip install torchvision"
   ]
  },
  {
   "cell_type": "markdown",
   "metadata": {},
   "source": [
    "Initialization"
   ]
  },
  {
   "cell_type": "code",
   "execution_count": null,
   "metadata": {},
   "outputs": [],
   "source": [
    "import torch\n",
    "import timm\n",
    "import torch.nn as nn\n",
    "import torch.optim as optim\n",
    "from torch.utils.data import sampler, Dataset, DataLoader, SubsetRandomSampler\n",
    "from torchvision.transforms import v2\n",
    "from torchvision.datasets import ImageFolder\n",
    "import pandas as pd\n",
    "import numpy as np\n",
    "\n",
    "USE_GPU = True\n",
    "dtype = torch.float32 \n",
    "if torch.cuda.is_available():\n",
    "    device = torch.device('cuda')\n",
    "    print(f\"GPU: {torch.cuda.get_device_name(0)} is available.\")\n",
    "else:\n",
    "    device = torch.device('cpu')\n",
    "    print(\"No GPU available. Training will run on CPU.\")"
   ]
  },
  {
   "cell_type": "markdown",
   "metadata": {},
   "source": [
    "If the output is \"using device: cpu\": download CUDA toolkit (https://developer.nvidia.com/cuda-downloads)\n",
    "https://pytorch.org/get-started/locally/"
   ]
  },
  {
   "cell_type": "code",
   "execution_count": null,
   "metadata": {},
   "outputs": [],
   "source": [
    "# data augmentation\n",
    "transform = v2.Compose([\n",
    "                v2.ToImage(), \n",
    "                v2.Resize((224, 224)), \n",
    "                v2.ToDtype(torch.float32, scale=True),\n",
    "                v2.Normalize(mean=[0.5]*3, std=[0.5]*3), \n",
    "                \n",
    "                # v2.RandomHorizontalFlip(),\n",
    "                v2.ColorJitter(brightness=(0.5, 1.5), contrast=(0.5, 1.5), saturation=(0.5, 1.5), hue=(-0.3, 0.3)),\n",
    "                # v2.RandomChannelPermutation(),\n",
    "                # v2.RandomErasing(p=0.5, scale=(0.05, 0.3), ratio=(1, 1), value='random'),\n",
    "                v2.RandomRotation(degrees=10)])"
   ]
  },
  {
   "cell_type": "code",
   "execution_count": null,
   "metadata": {},
   "outputs": [],
   "source": [
    "class CropButtonDataset(Dataset):\n",
    "    def __init__(self, data_dir, transform = None):\n",
    "        self.data = ImageFolder(data_dir, transform=transform)\n",
    "    \n",
    "    def __len__(self):\n",
    "        return len(self.data)\n",
    "    \n",
    "    def __getitem__(self, index):\n",
    "        return self.data[index]\n",
    "    \n",
    "    # return classes\n",
    "    def classes(self):\n",
    "        return self.data.classes"
   ]
  },
  {
   "cell_type": "code",
   "execution_count": null,
   "metadata": {},
   "outputs": [],
   "source": [
    "# creat a dictionary that maps index to label\n",
    "data_dir='ClassificationDataset_label/train'\n",
    "target_to_class = {v: k for k, v in ImageFolder(data_dir).class_to_idx.items()}"
   ]
  },
  {
   "cell_type": "code",
   "execution_count": null,
   "metadata": {},
   "outputs": [],
   "source": [
    "button_train = CropButtonDataset('ClassificationDataset_label/train', transform=transform)\n",
    "loader_train = DataLoader(button_train, batch_size=64, shuffle=True)\n",
    "\n",
    "button_val = CropButtonDataset('ClassificationDataset_label/val', transform=transform)\n",
    "loader_val = DataLoader(button_val, batch_size=14, shuffle=True)\n",
    "\n",
    "button_test = CropButtonDataset('ClassificationDataset_label/test', transform=transform)\n",
    "loader_test = DataLoader(button_test, batch_size=14, shuffle=False)"
   ]
  },
  {
   "cell_type": "markdown",
   "metadata": {},
   "source": [
    "Check If load correctly"
   ]
  },
  {
   "cell_type": "code",
   "execution_count": null,
   "metadata": {},
   "outputs": [
    {
     "data": {
      "text/plain": [
       "<torch.utils.data.dataloader.DataLoader at 0x2e06415a270>"
      ]
     },
     "execution_count": 8,
     "metadata": {},
     "output_type": "execute_result"
    }
   ],
   "source": [
    "loader_train"
   ]
  },
  {
   "cell_type": "code",
   "execution_count": null,
   "metadata": {},
   "outputs": [
    {
     "name": "stdout",
     "output_type": "stream",
     "text": [
      "Batch loaded!\n",
      "Images shape: torch.Size([14, 3, 224, 224])\n",
      "Labels: tensor([0, 1, 0, 1, 0, 0, 1, 1, 1, 0, 0, 1, 1, 0])\n"
     ]
    }
   ],
   "source": [
    "for images, labels in loader_val:\n",
    "    print(\"Batch loaded!\")\n",
    "    print(\"Images shape:\", images.shape)\n",
    "    print(\"Labels:\", labels)\n",
    "    break\n"
   ]
  },
  {
   "cell_type": "markdown",
   "metadata": {},
   "source": [
    "Model setup"
   ]
  },
  {
   "cell_type": "code",
   "execution_count": null,
   "metadata": {},
   "outputs": [],
   "source": [
    "import matplotlib.pyplot as plt\n",
    "import torch.nn.functional as F"
   ]
  },
  {
   "cell_type": "code",
   "execution_count": null,
   "metadata": {},
   "outputs": [],
   "source": [
    "def check_accuracy_final(loader, model):\n",
    "    num_correct = 0\n",
    "    num_samples = 0\n",
    "    model.eval()\n",
    "    with torch.no_grad():\n",
    "        for x, y in loader:\n",
    "            x = x.to(device=device, dtype=dtype)\n",
    "            y = y.to(device=device, dtype=dtype).unsqueeze(1)\n",
    "            scores = model(x)\n",
    "            preds = (torch.sigmoid(scores) > 0.5).long()\n",
    "\n",
    "            # print(\"Sample preds:\", preds[:10].flatten().tolist())\n",
    "            \n",
    "            num_correct += (preds == y.long()).sum()\n",
    "            num_samples += preds.size(0)\n",
    "        acc = float(num_correct) / num_samples\n",
    "        return acc\n",
    "\n",
    "def train(model, optimizer, epochs=10):\n",
    "    x1 = list(range(len(loader_train) * epochs))\n",
    "    x2 = []\n",
    "    y1 = []\n",
    "    y2 = []\n",
    "    model = model.to(device=device)\n",
    "    criterion = nn.BCEWithLogitsLoss()\n",
    "    cnt = 0\n",
    "    total_cnt = epochs * len(loader_train)\n",
    "    for e in range(epochs):\n",
    "        for t, (x, y) in enumerate(loader_train):\n",
    "            model.train()\n",
    "            x = x.to(device=device, dtype=dtype)\n",
    "            y = y.to(device=device, dtype=dtype).unsqueeze(1)\n",
    "\n",
    "            scores = model(x)\n",
    "            loss = criterion(scores, y)\n",
    "            optimizer.zero_grad()\n",
    "            loss.backward()\n",
    "            optimizer.step()\n",
    "\n",
    "            y1.append(loss.item())\n",
    "\n",
    "            print(\"iteration: \" +  str(cnt) + \"/\" + str(total_cnt) + \": loss = \" + str(loss.item()))\n",
    "            if cnt % 1 == 0:\n",
    "                acc_val = check_accuracy_final(loader_val, model)\n",
    "                print(\"val_acc = \" + str(acc_val))\n",
    "                acc_train = check_accuracy_final(loader_train, model)\n",
    "                print(\"train_acc = \" + str(acc_train))\n",
    "                x2.append(cnt)\n",
    "                y2.append(acc_val)\n",
    "\n",
    "            cnt += 1\n",
    "    return (x1, y1, x2, y2)\n",
    "\n",
    "def plotpic(data):\n",
    "  x1, y1, x2, y2 = data\n",
    "  plt.figure()\n",
    "  plt.plot(x1, y1, marker='.')\n",
    "  plt.xlabel('Iteratoin')\n",
    "  plt.ylabel('Loss')\n",
    "  plt.title('Loss')\n",
    "  plt.grid(True)\n",
    "\n",
    "  plt.figure()\n",
    "  plt.plot(x2, y2, marker='o')\n",
    "  plt.xlabel('Iteratoin')\n",
    "  plt.ylabel('Val Acc')\n",
    "  plt.title('Val Acc')\n",
    "  plt.grid(True)\n",
    "  plt.show()"
   ]
  },
  {
   "cell_type": "code",
   "execution_count": null,
   "metadata": {},
   "outputs": [],
   "source": [
    "model = timm.create_model('vit_base_patch16_224', pretrained=True)\n",
    "\n",
    "vit_output_dim = model.head.out_features \n",
    "\n",
    "model.head = nn.Sequential(\n",
    "    model.head,\n",
    "    nn.ReLU(),\n",
    "    nn.Dropout(0.3),\n",
    "    nn.Linear(vit_output_dim, 512),\n",
    "    nn.BatchNorm1d(512),\n",
    "    nn.ReLU(),\n",
    "    nn.Dropout(0.3),\n",
    "    nn.Linear(512, 128),\n",
    "    nn.BatchNorm1d(128),\n",
    "    nn.ReLU(),\n",
    "    nn.Dropout(0.3),\n",
    "    nn.Linear(128, 1)\n",
    ")\n",
    "\n",
    "model = model.to(device)"
   ]
  },
  {
   "cell_type": "code",
   "execution_count": null,
   "metadata": {},
   "outputs": [],
   "source": [
    "criterion = nn.BCEWithLogitsLoss()\n",
    "sgdMNb = optim.SGD(model.parameters(), lr=1e-2,\n",
    "                     momentum=0.8, nesterov=True)\n",
    "adamw = optim.AdamW(model.parameters(), lr=5e-6,\n",
    "                        weight_decay=3e-2)"
   ]
  },
  {
   "cell_type": "markdown",
   "metadata": {},
   "source": [
    "Train"
   ]
  },
  {
   "cell_type": "code",
   "execution_count": null,
   "metadata": {},
   "outputs": [
    {
     "name": "stdout",
     "output_type": "stream",
     "text": [
      "iteration: 0/100: loss = 0.7333539724349976\n",
      "val_acc = 0.5\n",
      "train_acc = 0.5041322314049587\n",
      "iteration: 1/100: loss = 0.7192313075065613\n",
      "val_acc = 0.42857142857142855\n",
      "train_acc = 0.512396694214876\n",
      "iteration: 2/100: loss = 0.7046948075294495\n",
      "val_acc = 0.5\n",
      "train_acc = 0.5289256198347108\n",
      "iteration: 3/100: loss = 0.7458263039588928\n",
      "val_acc = 0.5\n",
      "train_acc = 0.5206611570247934\n",
      "iteration: 4/100: loss = 0.7334305644035339\n",
      "val_acc = 0.5\n",
      "train_acc = 0.5289256198347108\n",
      "iteration: 5/100: loss = 0.7403110265731812\n",
      "val_acc = 0.42857142857142855\n",
      "train_acc = 0.512396694214876\n",
      "iteration: 6/100: loss = 0.7264386415481567\n",
      "val_acc = 0.5\n",
      "train_acc = 0.49586776859504134\n",
      "iteration: 7/100: loss = 0.618163526058197\n",
      "val_acc = 0.5\n",
      "train_acc = 0.5206611570247934\n",
      "iteration: 8/100: loss = 0.7005748748779297\n",
      "val_acc = 0.42857142857142855\n",
      "train_acc = 0.5041322314049587\n",
      "iteration: 9/100: loss = 0.678605854511261\n",
      "val_acc = 0.5\n",
      "train_acc = 0.5289256198347108\n",
      "iteration: 10/100: loss = 0.7479192018508911\n",
      "val_acc = 0.42857142857142855\n",
      "train_acc = 0.512396694214876\n",
      "iteration: 11/100: loss = 0.7030368447303772\n",
      "val_acc = 0.5\n",
      "train_acc = 0.5206611570247934\n",
      "iteration: 12/100: loss = 0.7255005836486816\n",
      "val_acc = 0.5\n",
      "train_acc = 0.5206611570247934\n",
      "iteration: 13/100: loss = 0.7351844310760498\n",
      "val_acc = 0.5714285714285714\n",
      "train_acc = 0.5206611570247934\n",
      "iteration: 14/100: loss = 0.7135193347930908\n",
      "val_acc = 0.42857142857142855\n",
      "train_acc = 0.5371900826446281\n",
      "iteration: 15/100: loss = 0.736557126045227\n",
      "val_acc = 0.5\n",
      "train_acc = 0.5041322314049587\n",
      "iteration: 16/100: loss = 0.7163882851600647\n",
      "val_acc = 0.42857142857142855\n",
      "train_acc = 0.5041322314049587\n",
      "iteration: 17/100: loss = 0.7165730595588684\n",
      "val_acc = 0.42857142857142855\n",
      "train_acc = 0.5206611570247934\n",
      "iteration: 18/100: loss = 0.7233288288116455\n",
      "val_acc = 0.35714285714285715\n",
      "train_acc = 0.5206611570247934\n",
      "iteration: 19/100: loss = 0.7261565327644348\n",
      "val_acc = 0.42857142857142855\n",
      "train_acc = 0.512396694214876\n",
      "iteration: 20/100: loss = 0.7146327495574951\n",
      "val_acc = 0.42857142857142855\n",
      "train_acc = 0.512396694214876\n",
      "iteration: 21/100: loss = 0.7407395839691162\n",
      "val_acc = 0.35714285714285715\n",
      "train_acc = 0.5289256198347108\n",
      "iteration: 22/100: loss = 0.776045560836792\n",
      "val_acc = 0.42857142857142855\n",
      "train_acc = 0.5206611570247934\n",
      "iteration: 23/100: loss = 0.7089102864265442\n",
      "val_acc = 0.42857142857142855\n",
      "train_acc = 0.5454545454545454\n",
      "iteration: 24/100: loss = 0.7901976108551025\n",
      "val_acc = 0.42857142857142855\n",
      "train_acc = 0.5371900826446281\n",
      "iteration: 25/100: loss = 0.7116883993148804\n",
      "val_acc = 0.5\n",
      "train_acc = 0.5702479338842975\n",
      "iteration: 26/100: loss = 0.7085446119308472\n",
      "val_acc = 0.42857142857142855\n",
      "train_acc = 0.5206611570247934\n",
      "iteration: 27/100: loss = 0.6922080516815186\n",
      "val_acc = 0.42857142857142855\n",
      "train_acc = 0.5454545454545454\n",
      "iteration: 28/100: loss = 0.708939790725708\n",
      "val_acc = 0.42857142857142855\n",
      "train_acc = 0.5289256198347108\n",
      "iteration: 29/100: loss = 0.7155895829200745\n",
      "val_acc = 0.42857142857142855\n",
      "train_acc = 0.5289256198347108\n",
      "iteration: 30/100: loss = 0.7303143739700317\n",
      "val_acc = 0.42857142857142855\n",
      "train_acc = 0.5371900826446281\n",
      "iteration: 31/100: loss = 0.6407397985458374\n",
      "val_acc = 0.5\n",
      "train_acc = 0.5289256198347108\n",
      "iteration: 32/100: loss = 0.7394561767578125\n",
      "val_acc = 0.5\n",
      "train_acc = 0.5454545454545454\n",
      "iteration: 33/100: loss = 0.712757408618927\n",
      "val_acc = 0.42857142857142855\n",
      "train_acc = 0.49586776859504134\n",
      "iteration: 34/100: loss = 0.7097976207733154\n",
      "val_acc = 0.35714285714285715\n",
      "train_acc = 0.5537190082644629\n",
      "iteration: 35/100: loss = 0.715990424156189\n",
      "val_acc = 0.35714285714285715\n",
      "train_acc = 0.5289256198347108\n",
      "iteration: 36/100: loss = 0.7225018739700317\n",
      "val_acc = 0.5\n",
      "train_acc = 0.49586776859504134\n",
      "iteration: 37/100: loss = 0.7204796075820923\n",
      "val_acc = 0.42857142857142855\n",
      "train_acc = 0.5289256198347108\n",
      "iteration: 38/100: loss = 0.6848640441894531\n",
      "val_acc = 0.42857142857142855\n",
      "train_acc = 0.5619834710743802\n",
      "iteration: 39/100: loss = 0.7345318794250488\n",
      "val_acc = 0.42857142857142855\n",
      "train_acc = 0.5206611570247934\n",
      "iteration: 40/100: loss = 0.6907789707183838\n",
      "val_acc = 0.42857142857142855\n",
      "train_acc = 0.5289256198347108\n",
      "iteration: 41/100: loss = 0.776441216468811\n",
      "val_acc = 0.42857142857142855\n",
      "train_acc = 0.5454545454545454\n",
      "iteration: 42/100: loss = 0.6925107836723328\n",
      "val_acc = 0.35714285714285715\n",
      "train_acc = 0.5289256198347108\n",
      "iteration: 43/100: loss = 0.7388603687286377\n",
      "val_acc = 0.42857142857142855\n",
      "train_acc = 0.5371900826446281\n",
      "iteration: 44/100: loss = 0.7226657867431641\n",
      "val_acc = 0.5\n",
      "train_acc = 0.5371900826446281\n",
      "iteration: 45/100: loss = 0.6858472228050232\n",
      "val_acc = 0.42857142857142855\n",
      "train_acc = 0.5454545454545454\n",
      "iteration: 46/100: loss = 0.7363067269325256\n",
      "val_acc = 0.35714285714285715\n",
      "train_acc = 0.5371900826446281\n",
      "iteration: 47/100: loss = 0.7019220590591431\n",
      "val_acc = 0.35714285714285715\n",
      "train_acc = 0.5454545454545454\n",
      "iteration: 48/100: loss = 0.7040195465087891\n",
      "val_acc = 0.42857142857142855\n",
      "train_acc = 0.5454545454545454\n",
      "iteration: 49/100: loss = 0.7479079365730286\n",
      "val_acc = 0.42857142857142855\n",
      "train_acc = 0.5702479338842975\n",
      "iteration: 50/100: loss = 0.6857929229736328\n",
      "val_acc = 0.35714285714285715\n",
      "train_acc = 0.512396694214876\n",
      "iteration: 51/100: loss = 0.7208502292633057\n",
      "val_acc = 0.5\n",
      "train_acc = 0.5206611570247934\n",
      "iteration: 52/100: loss = 0.7075490951538086\n",
      "val_acc = 0.42857142857142855\n",
      "train_acc = 0.5371900826446281\n",
      "iteration: 53/100: loss = 0.6615375876426697\n",
      "val_acc = 0.42857142857142855\n",
      "train_acc = 0.5785123966942148\n",
      "iteration: 54/100: loss = 0.7152382731437683\n",
      "val_acc = 0.35714285714285715\n",
      "train_acc = 0.5371900826446281\n",
      "iteration: 55/100: loss = 0.7685194611549377\n",
      "val_acc = 0.5\n",
      "train_acc = 0.48760330578512395\n",
      "iteration: 56/100: loss = 0.7315385937690735\n",
      "val_acc = 0.42857142857142855\n",
      "train_acc = 0.512396694214876\n",
      "iteration: 57/100: loss = 0.7195666432380676\n",
      "val_acc = 0.42857142857142855\n",
      "train_acc = 0.5289256198347108\n",
      "iteration: 58/100: loss = 0.7406206130981445\n",
      "val_acc = 0.42857142857142855\n",
      "train_acc = 0.5537190082644629\n",
      "iteration: 59/100: loss = 0.6568535566329956\n",
      "val_acc = 0.5\n",
      "train_acc = 0.5537190082644629\n",
      "iteration: 60/100: loss = 0.6929080486297607\n",
      "val_acc = 0.42857142857142855\n",
      "train_acc = 0.5619834710743802\n",
      "iteration: 61/100: loss = 0.6612445116043091\n",
      "val_acc = 0.42857142857142855\n",
      "train_acc = 0.5206611570247934\n",
      "iteration: 62/100: loss = 0.7209504842758179\n",
      "val_acc = 0.35714285714285715\n",
      "train_acc = 0.5702479338842975\n",
      "iteration: 63/100: loss = 0.6918804049491882\n",
      "val_acc = 0.35714285714285715\n",
      "train_acc = 0.5371900826446281\n",
      "iteration: 64/100: loss = 0.7571935653686523\n",
      "val_acc = 0.35714285714285715\n",
      "train_acc = 0.5289256198347108\n",
      "iteration: 65/100: loss = 0.6402828693389893\n",
      "val_acc = 0.5\n",
      "train_acc = 0.5454545454545454\n",
      "iteration: 66/100: loss = 0.6937496066093445\n",
      "val_acc = 0.42857142857142855\n",
      "train_acc = 0.5371900826446281\n",
      "iteration: 67/100: loss = 0.665937066078186\n",
      "val_acc = 0.35714285714285715\n",
      "train_acc = 0.5289256198347108\n",
      "iteration: 68/100: loss = 0.6978667974472046\n",
      "val_acc = 0.42857142857142855\n",
      "train_acc = 0.5206611570247934\n",
      "iteration: 69/100: loss = 0.7166547179222107\n",
      "val_acc = 0.35714285714285715\n",
      "train_acc = 0.5454545454545454\n",
      "iteration: 70/100: loss = 0.7432826161384583\n",
      "val_acc = 0.35714285714285715\n",
      "train_acc = 0.512396694214876\n",
      "iteration: 71/100: loss = 0.7231104969978333\n",
      "val_acc = 0.42857142857142855\n",
      "train_acc = 0.5702479338842975\n",
      "iteration: 72/100: loss = 0.6553099155426025\n",
      "val_acc = 0.42857142857142855\n",
      "train_acc = 0.5537190082644629\n",
      "iteration: 73/100: loss = 0.7329879403114319\n",
      "val_acc = 0.42857142857142855\n",
      "train_acc = 0.5289256198347108\n",
      "iteration: 74/100: loss = 0.7430121898651123\n",
      "val_acc = 0.42857142857142855\n",
      "train_acc = 0.512396694214876\n",
      "iteration: 75/100: loss = 0.7350138425827026\n",
      "val_acc = 0.42857142857142855\n",
      "train_acc = 0.5289256198347108\n",
      "iteration: 76/100: loss = 0.674697756767273\n",
      "val_acc = 0.35714285714285715\n",
      "train_acc = 0.5537190082644629\n",
      "iteration: 77/100: loss = 0.7467251420021057\n",
      "val_acc = 0.5\n"
     ]
    }
   ],
   "source": [
    "data = train(model, adamw, epochs=10)"
   ]
  },
  {
   "cell_type": "code",
   "execution_count": null,
   "metadata": {},
   "outputs": [],
   "source": [
    "# from itertools import product\n",
    "# lr = 10 ** np.random.uniform(-3, -6, (10,))\n",
    "# mm = np.random.uniform(0.8, 0.99, (10,))\n",
    "# for l, m in product(lr, mm):\n",
    "#     sgdMNb = optim.SGD(model.parameters(), lr=l,\n",
    "#                      momentum=m, nesterov=True)\n",
    "#     data = train(model, sgdMNb, epochs=10)"
   ]
  },
  {
   "cell_type": "code",
   "execution_count": null,
   "metadata": {},
   "outputs": [
    {
     "data": {
      "image/png": "[encoded data removed]",
      "text/plain": [
       "<Figure size 640x480 with 1 Axes>"
      ]
     },
     "metadata": {},
     "output_type": "display_data"
    },
    {
     "data": {
      "image/png": "[encoded data removed]",
      "text/plain": [
       "<Figure size 640x480 with 1 Axes>"
      ]
     },
     "metadata": {},
     "output_type": "display_data"
    }
   ],
   "source": [
    "plotpic(data)"
   ]
  }
 ],
 "metadata": {
  "kernelspec": {
   "display_name": "Python 3",
   "language": "python",
   "name": "python3"
  },
  "language_info": {
   "codemirror_mode": {
    "name": "ipython",
    "version": 3
   },
   "file_extension": ".py",
   "mimetype": "text/x-python",
   "name": "python",
   "nbconvert_exporter": "python",
   "pygments_lexer": "ipython3",
   "version": "3.13.3"
  }
 },
 "nbformat": 4,
 "nbformat_minor": 2
}
