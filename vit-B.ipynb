{
 "cells": [
  {
   "cell_type": "markdown",
   "metadata": {},
   "source": [
    "Download torch and torchvision"
   ]
  },
  {
   "cell_type": "code",
   "execution_count": 1,
   "metadata": {},
   "outputs": [],
   "source": [
    "# pip install torch\n",
    "# pip install timm"
   ]
  },
  {
   "cell_type": "code",
   "execution_count": 2,
   "metadata": {},
   "outputs": [],
   "source": [
    "# pip install torchvision"
   ]
  },
  {
   "cell_type": "markdown",
   "metadata": {},
   "source": [
    "Initialization"
   ]
  },
  {
   "cell_type": "code",
   "execution_count": 3,
   "metadata": {},
   "outputs": [
    {
     "name": "stderr",
     "output_type": "stream",
     "text": [
      "c:\\Users\\Dell\\AppData\\Local\\Programs\\Python\\Python313\\Lib\\site-packages\\tqdm\\auto.py:21: TqdmWarning: IProgress not found. Please update jupyter and ipywidgets. See https://ipywidgets.readthedocs.io/en/stable/user_install.html\n",
      "  from .autonotebook import tqdm as notebook_tqdm\n"
     ]
    },
    {
     "name": "stdout",
     "output_type": "stream",
     "text": [
      "GPU: NVIDIA GeForce RTX 4070 Laptop GPU is available.\n"
     ]
    }
   ],
   "source": [
    "import torch\n",
    "import timm\n",
    "import torch.nn as nn\n",
    "import torch.optim as optim\n",
    "from torch.utils.data import sampler, Dataset, DataLoader, SubsetRandomSampler\n",
    "from torchvision.transforms import v2\n",
    "from torchvision.datasets import ImageFolder\n",
    "import pandas as pd\n",
    "import numpy as np\n",
    "\n",
    "USE_GPU = True\n",
    "dtype = torch.float32 \n",
    "if torch.cuda.is_available():\n",
    "    device = torch.device('cuda')\n",
    "    print(f\"GPU: {torch.cuda.get_device_name(0)} is available.\")\n",
    "else:\n",
    "    device = torch.device('cpu')\n",
    "    print(\"No GPU available. Training will run on CPU.\")"
   ]
  },
  {
   "cell_type": "markdown",
   "metadata": {},
   "source": [
    "If the output is \"using device: cpu\": download CUDA toolkit (https://developer.nvidia.com/cuda-downloads)\n",
    "https://pytorch.org/get-started/locally/"
   ]
  },
  {
   "cell_type": "code",
   "execution_count": 4,
   "metadata": {},
   "outputs": [],
   "source": [
    "# data augmentation\n",
    "transform = v2.Compose([\n",
    "                v2.ToImage(), \n",
    "                v2.Resize((224, 224)), \n",
    "                v2.ToDtype(torch.float32, scale=True),\n",
    "                \n",
    "                # v2.RandomHorizontalFlip(),\n",
    "                v2.ColorJitter(brightness=(0.5, 1.5), contrast=(0.5, 1.5), saturation=(0.5, 1.5), hue=(-0.3, 0.3)),\n",
    "                # v2.RandomChannelPermutation(),\n",
    "                # v2.RandomErasing(p=0.5, scale=(0.05, 0.3), ratio=(1, 1), value='random'),\n",
    "                v2.RandomRotation(degrees=10)])"
   ]
  },
  {
   "cell_type": "code",
   "execution_count": 5,
   "metadata": {},
   "outputs": [],
   "source": [
    "class CropButtonDataset(Dataset):\n",
    "    def __init__(self, data_dir, transform = None):\n",
    "        self.data = ImageFolder(data_dir, transform=transform)\n",
    "    \n",
    "    def __len__(self):\n",
    "        return len(self.data)\n",
    "    \n",
    "    def __getitem__(self, index):\n",
    "        return self.data[index]\n",
    "    \n",
    "    # return classes\n",
    "    def classes(self):\n",
    "        return self.data.classes"
   ]
  },
  {
   "cell_type": "code",
   "execution_count": 6,
   "metadata": {},
   "outputs": [],
   "source": [
    "# creat a dictionary that maps index to label\n",
    "data_dir='ClassificationDataset_label/train'\n",
    "target_to_class = {v: k for k, v in ImageFolder(data_dir).class_to_idx.items()}"
   ]
  },
  {
   "cell_type": "code",
   "execution_count": 7,
   "metadata": {},
   "outputs": [],
   "source": [
    "button_train = CropButtonDataset('ClassificationDataset_label/train', transform=transform)\n",
    "loader_train = DataLoader(button_train, batch_size=64, shuffle=True)\n",
    "\n",
    "button_val = CropButtonDataset('ClassificationDataset_label/val', transform=transform)\n",
    "loader_val = DataLoader(button_val, batch_size=14, shuffle=True)\n",
    "\n",
    "button_test = CropButtonDataset('ClassificationDataset_label/test', transform=transform)\n",
    "loader_test = DataLoader(button_test, batch_size=14, shuffle=False)"
   ]
  },
  {
   "cell_type": "markdown",
   "metadata": {},
   "source": [
    "Check If load correctly"
   ]
  },
  {
   "cell_type": "code",
   "execution_count": 8,
   "metadata": {},
   "outputs": [
    {
     "data": {
      "text/plain": [
       "<torch.utils.data.dataloader.DataLoader at 0x1da35e7a120>"
      ]
     },
     "execution_count": 8,
     "metadata": {},
     "output_type": "execute_result"
    }
   ],
   "source": [
    "loader_train"
   ]
  },
  {
   "cell_type": "code",
   "execution_count": 9,
   "metadata": {},
   "outputs": [
    {
     "name": "stdout",
     "output_type": "stream",
     "text": [
      "Batch loaded!\n",
      "Images shape: torch.Size([14, 3, 224, 224])\n",
      "Labels: tensor([1, 1, 0, 1, 1, 1, 1, 0, 1, 0, 0, 0, 0, 0])\n"
     ]
    }
   ],
   "source": [
    "for images, labels in loader_val:\n",
    "    print(\"Batch loaded!\")\n",
    "    print(\"Images shape:\", images.shape)\n",
    "    print(\"Labels:\", labels)\n",
    "    break\n"
   ]
  },
  {
   "cell_type": "markdown",
   "metadata": {},
   "source": [
    "Model setup"
   ]
  },
  {
   "cell_type": "code",
   "execution_count": 10,
   "metadata": {},
   "outputs": [],
   "source": [
    "import matplotlib.pyplot as plt\n",
    "import torch.nn.functional as F"
   ]
  },
  {
   "cell_type": "code",
   "execution_count": 11,
   "metadata": {},
   "outputs": [],
   "source": [
    "\n",
    "\n",
    "def check_accuracy_final(loader, model):\n",
    "    num_correct = 0\n",
    "    num_samples = 0\n",
    "    model.eval()\n",
    "    with torch.no_grad():\n",
    "        for x, y in loader:\n",
    "            x = x.to(device=device, dtype=dtype)\n",
    "            y = y.to(device=device, dtype=dtype).unsqueeze(1)\n",
    "            scores = model(x)\n",
    "            preds = (torch.sigmoid(scores) > 0.5).long()\n",
    "\n",
    "            # print(\"Sample preds:\", preds[:10].flatten().tolist())\n",
    "            \n",
    "            num_correct += (preds == y.long()).sum()\n",
    "            num_samples += preds.size(0)\n",
    "        acc = float(num_correct) / num_samples\n",
    "        return acc\n",
    "\n",
    "def train(model, optimizer, epochs=10):\n",
    "    x1 = list(range(len(loader_train) * epochs))\n",
    "    x2 = []\n",
    "    y1 = []\n",
    "    y2 = []\n",
    "    model = model.to(device=device)\n",
    "    criterion = nn.BCEWithLogitsLoss()\n",
    "    cnt = 0\n",
    "    total_cnt = epochs * len(loader_train)\n",
    "    for e in range(epochs):\n",
    "        for t, (x, y) in enumerate(loader_train):\n",
    "            model.train()\n",
    "            x = x.to(device=device, dtype=dtype)\n",
    "            y = y.to(device=device, dtype=dtype).unsqueeze(1)\n",
    "\n",
    "            scores = model(x)\n",
    "            loss = criterion(scores, y)\n",
    "            optimizer.zero_grad()\n",
    "            loss.backward()\n",
    "            optimizer.step()\n",
    "\n",
    "            y1.append(loss.item())\n",
    "\n",
    "            print(\"iteration: \" +  str(cnt) + \"/\" + str(total_cnt) + \": loss = \" + str(loss.item()))\n",
    "            if cnt % 1 == 0:\n",
    "                acc_val = check_accuracy_final(loader_val, model)\n",
    "                print(\"val_acc = \" + str(acc_val))\n",
    "                acc_train = check_accuracy_final(loader_train, model)\n",
    "                print(\"train_acc = \" + str(acc_train))\n",
    "                x2.append(cnt)\n",
    "                y2.append(acc_val)\n",
    "\n",
    "            cnt += 1\n",
    "    return (x1, y1, x2, y2)\n",
    "\n",
    "def plotpic(data):\n",
    "  x1, y1, x2, y2 = data\n",
    "  plt.figure()\n",
    "  plt.plot(x1, y1, marker='.')\n",
    "  plt.xlabel('Iteratoin')\n",
    "  plt.ylabel('Loss')\n",
    "  plt.title('Loss')\n",
    "  plt.grid(True)\n",
    "\n",
    "  plt.figure()\n",
    "  plt.plot(x2, y2, marker='o')\n",
    "  plt.xlabel('Iteratoin')\n",
    "  plt.ylabel('Val Acc')\n",
    "  plt.title('Val Acc')\n",
    "  plt.grid(True)\n",
    "  plt.show()"
   ]
  },
  {
   "cell_type": "code",
   "execution_count": 12,
   "metadata": {},
   "outputs": [],
   "source": [
    "model = timm.create_model('vit_base_patch16_224', pretrained=True)\n",
    "\n",
    "vit_output_dim = model.head.out_features \n",
    "\n",
    "model.head = nn.Sequential(\n",
    "    model.head,\n",
    "    nn.ReLU(),\n",
    "    nn.Dropout(0.3),\n",
    "    nn.Linear(vit_output_dim, 512),\n",
    "    nn.BatchNorm1d(512),\n",
    "    nn.ReLU(),\n",
    "    nn.Dropout(0.3),\n",
    "    nn.Linear(512, 128),\n",
    "    nn.BatchNorm1d(128),\n",
    "    nn.ReLU(),\n",
    "    nn.Dropout(0.3),\n",
    "    nn.Linear(128, 1)\n",
    ")\n",
    "\n",
    "model = model.to(device)"
   ]
  },
  {
   "cell_type": "code",
   "execution_count": 13,
   "metadata": {},
   "outputs": [],
   "source": [
    "criterion = nn.BCEWithLogitsLoss()\n",
    "sgdMNb = optim.SGD(model.parameters(), lr=1e-2,\n",
    "                     momentum=0.8, nesterov=True)\n",
    "adamw = optim.AdamW(model.parameters(), lr=5e-5,\n",
    "                        weight_decay=5e-2)"
   ]
  },
  {
   "cell_type": "markdown",
   "metadata": {},
   "source": [
    "Train"
   ]
  },
  {
   "cell_type": "code",
   "execution_count": 14,
   "metadata": {},
   "outputs": [
    {
     "name": "stdout",
     "output_type": "stream",
     "text": [
      "iteration: 0/20: loss = 0.7368106842041016\n",
      "val_acc = 0.6428571428571429\n",
      "train_acc = 0.5371900826446281\n",
      "iteration: 1/20: loss = 0.7327020168304443\n",
      "val_acc = 0.2857142857142857\n",
      "train_acc = 0.5041322314049587\n",
      "iteration: 2/20: loss = 0.7190240621566772\n",
      "val_acc = 0.5714285714285714\n",
      "train_acc = 0.5537190082644629\n",
      "iteration: 3/20: loss = 0.6891941428184509\n",
      "val_acc = 0.5714285714285714\n",
      "train_acc = 0.5371900826446281\n",
      "iteration: 4/20: loss = 0.6762938499450684\n",
      "val_acc = 0.7142857142857143\n",
      "train_acc = 0.5371900826446281\n",
      "iteration: 5/20: loss = 0.7150941491127014\n",
      "val_acc = 0.7857142857142857\n",
      "train_acc = 0.5454545454545454\n",
      "iteration: 6/20: loss = 0.6973350048065186\n",
      "val_acc = 0.42857142857142855\n",
      "train_acc = 0.5702479338842975\n",
      "iteration: 7/20: loss = 0.7229214310646057\n",
      "val_acc = 0.5\n",
      "train_acc = 0.5950413223140496\n",
      "iteration: 8/20: loss = 0.6540406346321106\n",
      "val_acc = 0.5\n",
      "train_acc = 0.5867768595041323\n",
      "iteration: 9/20: loss = 0.6971128582954407\n",
      "val_acc = 0.42857142857142855\n",
      "train_acc = 0.5371900826446281\n",
      "iteration: 10/20: loss = 0.6780889630317688\n",
      "val_acc = 0.42857142857142855\n",
      "train_acc = 0.5867768595041323\n",
      "iteration: 11/20: loss = 0.6415116786956787\n",
      "val_acc = 0.35714285714285715\n",
      "train_acc = 0.6446280991735537\n",
      "iteration: 12/20: loss = 0.6907024383544922\n",
      "val_acc = 0.5\n",
      "train_acc = 0.6446280991735537\n",
      "iteration: 13/20: loss = 0.6084151268005371\n",
      "val_acc = 0.5\n",
      "train_acc = 0.6446280991735537\n",
      "iteration: 14/20: loss = 0.6613861322402954\n",
      "val_acc = 0.5\n",
      "train_acc = 0.628099173553719\n",
      "iteration: 15/20: loss = 0.6580244302749634\n",
      "val_acc = 0.5\n",
      "train_acc = 0.6859504132231405\n",
      "iteration: 16/20: loss = 0.6277865767478943\n",
      "val_acc = 0.5\n",
      "train_acc = 0.6363636363636364\n",
      "iteration: 17/20: loss = 0.6285009384155273\n",
      "val_acc = 0.5\n",
      "train_acc = 0.5950413223140496\n",
      "iteration: 18/20: loss = 0.6614973545074463\n",
      "val_acc = 0.5714285714285714\n",
      "train_acc = 0.6115702479338843\n",
      "iteration: 19/20: loss = 0.6208986639976501\n",
      "val_acc = 0.5714285714285714\n",
      "train_acc = 0.71900826446281\n"
     ]
    }
   ],
   "source": [
    "data = train(model, adamw, epochs=10)"
   ]
  },
  {
   "cell_type": "code",
   "execution_count": 15,
   "metadata": {},
   "outputs": [],
   "source": [
    "# from itertools import product\n",
    "# lr = 10 ** np.random.uniform(-3, -6, (10,))\n",
    "# mm = np.random.uniform(0.8, 0.99, (10,))\n",
    "# for l, m in product(lr, mm):\n",
    "#     sgdMNb = optim.SGD(model.parameters(), lr=l,\n",
    "#                      momentum=m, nesterov=True)\n",
    "#     data = train(model, sgdMNb, epochs=10)"
   ]
  },
  {
   "cell_type": "code",
   "execution_count": 16,
   "metadata": {},
   "outputs": [
    {
     "data": {
      "image/png": "[encoded data removed]",
      "text/plain": [
       "<Figure size 640x480 with 1 Axes>"
      ]
     },
     "metadata": {},
     "output_type": "display_data"
    },
    {
     "data": {
      "image/png": "[encoded data removed]",
      "text/plain": [
       "<Figure size 640x480 with 1 Axes>"
      ]
     },
     "metadata": {},
     "output_type": "display_data"
    }
   ],
   "source": [
    "plotpic(data)"
   ]
  }
 ],
 "metadata": {
  "kernelspec": {
   "display_name": "Python 3",
   "language": "python",
   "name": "python3"
  },
  "language_info": {
   "codemirror_mode": {
    "name": "ipython",
    "version": 3
   },
   "file_extension": ".py",
   "mimetype": "text/x-python",
   "name": "python",
   "nbconvert_exporter": "python",
   "pygments_lexer": "ipython3",
   "version": "3.13.3"
  }
 },
 "nbformat": 4,
 "nbformat_minor": 2
}
