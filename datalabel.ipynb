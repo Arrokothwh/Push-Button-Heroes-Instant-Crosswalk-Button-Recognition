{
 "cells": [
  {
   "cell_type": "markdown",
   "id": "eafa93e1",
   "metadata": {},
   "source": [
    "Copy to each folders"
   ]
  },
  {
   "cell_type": "code",
   "execution_count": 2,
   "id": "ecaf3451",
   "metadata": {},
   "outputs": [],
   "source": [
    "import os\n",
    "import glob\n",
    "import shutil"
   ]
  },
  {
   "cell_type": "code",
   "execution_count": 24,
   "id": "b46d63a9",
   "metadata": {},
   "outputs": [],
   "source": [
    "IMG_DIR = 'ClassificationDataset/images'\n",
    "DEST_0 = 'ClassificationDataset_label/left0'\n",
    "DEST_1 = 'ClassificationDataset_label/right1'\n",
    "# loop every image\n",
    "for img_path in glob.glob(os.path.join(IMG_DIR, '*.*')):\n",
    "    filename = os.path.basename(img_path)\n",
    "    if filename.endswith('0_class0.jpg'):\n",
    "        shutil.copy(img_path, os.path.join(DEST_0, filename))\n",
    "    else:\n",
    "        shutil.copy(img_path, os.path.join(DEST_1, filename))\n"
   ]
  },
  {
   "cell_type": "markdown",
   "id": "d34c5e64",
   "metadata": {},
   "source": [
    "Copy left to right"
   ]
  },
  {
   "cell_type": "code",
   "execution_count": 25,
   "id": "f464016e",
   "metadata": {},
   "outputs": [],
   "source": [
    "import os\n",
    "import glob\n",
    "import random\n",
    "import cv2\n",
    "\n",
    "SRC_DIR = 'ClassificationDataset_label/left0'\n",
    "DEST_DIR = 'ClassificationDataset_label/right1'\n",
    "\n",
    "\n",
    "img_paths = glob.glob(os.path.join(SRC_DIR, '*.*'))\n",
    "\n",
    "selected_imgs = random.sample(img_paths, 120)\n",
    "\n",
    "for img_path in selected_imgs:\n",
    "    img = cv2.imread(img_path)  \n",
    "    if img is None:\n",
    "        print(f\"Failed to load: {img_path}\")\n",
    "        continue\n",
    "    flipped = cv2.flip(img, 1)\n",
    "    filename = os.path.basename(img_path)\n",
    "    out_path = os.path.join(DEST_DIR, filename)\n",
    "    cv2.imwrite(out_path, flipped)"
   ]
  },
  {
   "cell_type": "code",
   "execution_count": null,
   "id": "4a09f508",
   "metadata": {},
   "outputs": [],
   "source": []
  }
 ],
 "metadata": {
  "kernelspec": {
   "display_name": "Python 3",
   "language": "python",
   "name": "python3"
  },
  "language_info": {
   "codemirror_mode": {
    "name": "ipython",
    "version": 3
   },
   "file_extension": ".py",
   "mimetype": "text/x-python",
   "name": "python",
   "nbconvert_exporter": "python",
   "pygments_lexer": "ipython3",
   "version": "3.11.6"
  }
 },
 "nbformat": 4,
 "nbformat_minor": 5
}
