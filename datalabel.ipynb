{
 "cells": [
  {
   "cell_type": "markdown",
   "id": "eafa93e1",
   "metadata": {},
   "source": [
    "Copy to each folders"
   ]
  },
  {
   "cell_type": "code",
   "execution_count": 2,
   "id": "ecaf3451",
   "metadata": {},
   "outputs": [],
   "source": [
    "import os\n",
    "import glob\n",
    "import shutil"
   ]
  },
  {
   "cell_type": "code",
   "execution_count": 14,
   "id": "b46d63a9",
   "metadata": {},
   "outputs": [],
   "source": [
    "import os\n",
    "import shutil\n",
    "import pandas as pd\n",
    "\n",
    "CSV_PATH = 'ClassificationDataset/label.csv'\n",
    "IMAGE_DIR = 'ClassificationDataset/images'\n",
    "DEST_ROOT = 'ClassificationDataset/split' \n",
    "\n",
    "df = pd.read_csv(CSV_PATH)\n",
    "\n",
    "df['filename'] = df['image'].apply(lambda x: os.path.basename(x))\n",
    "\n",
    "for _, row in df.iterrows():\n",
    "    choice = str(row['choice'])\n",
    "    filename = row['filename']\n",
    "    \n",
    "    src_path = os.path.join(IMAGE_DIR, filename)\n",
    "    dst_dir = os.path.join(DEST_ROOT, choice)\n",
    "    dst_path = os.path.join(dst_dir, filename)\n",
    "\n",
    "    os.makedirs(dst_dir, exist_ok=True)\n",
    "\n",
    "    if os.path.exists(src_path):\n",
    "        shutil.copy(src_path, dst_path)\n",
    "    else:\n",
    "        print(f\"cannot find: {src_path}\")"
   ]
  },
  {
   "cell_type": "markdown",
   "id": "d34c5e64",
   "metadata": {},
   "source": [
    "Copy left to right (mirror)"
   ]
  },
  {
   "cell_type": "code",
   "execution_count": 21,
   "id": "f464016e",
   "metadata": {},
   "outputs": [],
   "source": [
    "import os\n",
    "import glob\n",
    "import random\n",
    "import cv2\n",
    "\n",
    "RAW_DIR = 'ClassificationDataset_label/train/left'\n",
    "DEST_DIR = 'ClassificationDataset_label/train/right'\n",
    "\n",
    "\n",
    "img_paths = glob.glob(os.path.join(RAW_DIR, '*.*'))\n",
    "\n",
    "selected_imgs = random.sample(img_paths, 15)\n",
    "\n",
    "for img_path in selected_imgs:\n",
    "    img = cv2.imread(img_path)  \n",
    "    if img is None:\n",
    "        print(f\"Failed to load: {img_path}\")\n",
    "        continue\n",
    "    flipped = cv2.flip(img, 1)\n",
    "    filename = os.path.basename(img_path)\n",
    "    out_path = os.path.join(DEST_DIR, filename)\n",
    "    cv2.imwrite(out_path, flipped)"
   ]
  },
  {
   "cell_type": "markdown",
   "id": "348169d9",
   "metadata": {},
   "source": [
    "Split data -> train, val, test"
   ]
  },
  {
   "cell_type": "code",
   "execution_count": null,
   "id": "4a09f508",
   "metadata": {},
   "outputs": [],
   "source": [
    "import os\n",
    "import glob\n",
    "import random\n",
    "import shutil\n",
    "\n",
    "class0 = 'left'\n",
    "class1 = 'right'\n",
    "root = '`ClassificationDataset_label`'\n",
    "\n",
    "for c in (class0, class1):\n",
    "    img_paths = glob.glob(os.path.join(root, 'train', c, '*.*'))\n",
    "    selected_imgs = random.sample(img_paths, 14)\n",
    "\n",
    "    for img_path1 in selected_imgs[:7]:\n",
    "        filename = os.path.basename(img_path1)\n",
    "        dst_path = os.path.join(root, 'val', c)\n",
    "        shutil.move(img_path1, dst_path)\n",
    "    \n",
    "    for img_path2 in selected_imgs[7:]:\n",
    "        filename = os.path.basename(img_path2)\n",
    "        dst_path = os.path.join(root, 'test', c)\n",
    "        shutil.move(img_path2, dst_path)"
   ]
  }
 ],
 "metadata": {
  "kernelspec": {
   "display_name": "Python 3",
   "language": "python",
   "name": "python3"
  },
  "language_info": {
   "codemirror_mode": {
    "name": "ipython",
    "version": 3
   },
   "file_extension": ".py",
   "mimetype": "text/x-python",
   "name": "python",
   "nbconvert_exporter": "python",
   "pygments_lexer": "ipython3",
   "version": "3.11.6"
  }
 },
 "nbformat": 4,
 "nbformat_minor": 5
}
