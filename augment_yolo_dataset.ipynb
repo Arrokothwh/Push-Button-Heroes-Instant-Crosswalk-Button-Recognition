{
 "cells": [
  {
   "cell_type": "markdown",
   "id": "bb20c355",
   "metadata": {},
   "source": [
    "## Notebook for augmenting images used for first stage YOLO model of 2-stage model pipline"
   ]
  },
  {
   "cell_type": "code",
   "execution_count": 11,
   "id": "4dc7983d",
   "metadata": {},
   "outputs": [
    {
     "name": "stdout",
     "output_type": "stream",
     "text": [
      "Defaulting to user installation because normal site-packages is not writeable\n",
      "Requirement already satisfied: tqdm in c:\\users\\yuzhi\\appdata\\roaming\\python\\python312\\site-packages (4.67.1)\n",
      "Requirement already satisfied: colorama in c:\\users\\yuzhi\\appdata\\roaming\\python\\python312\\site-packages (from tqdm) (0.4.6)\n",
      "Note: you may need to restart the kernel to use updated packages.\n"
     ]
    }
   ],
   "source": [
    "pip install tqdm"
   ]
  },
  {
   "cell_type": "code",
   "execution_count": null,
   "id": "67a1dc0d",
   "metadata": {},
   "outputs": [
    {
     "ename": "NameError",
     "evalue": "name 'tqdm' is not defined",
     "output_type": "error",
     "traceback": [
      "\u001b[31m---------------------------------------------------------------------------\u001b[39m",
      "\u001b[31mNameError\u001b[39m                                 Traceback (most recent call last)",
      "\u001b[36mCell\u001b[39m\u001b[36m \u001b[39m\u001b[32mIn[12]\u001b[39m\u001b[32m, line 24\u001b[39m\n\u001b[32m     17\u001b[39m input_images = [\n\u001b[32m     18\u001b[39m     os.path.splitext(f)[\u001b[32m0\u001b[39m]\n\u001b[32m     19\u001b[39m     \u001b[38;5;28;01mfor\u001b[39;00m f \u001b[38;5;129;01min\u001b[39;00m os.listdir(os.path.join(aug.INPUT_DIR, \u001b[33m\"\u001b[39m\u001b[33mimages\u001b[39m\u001b[33m\"\u001b[39m))\n\u001b[32m     20\u001b[39m     \u001b[38;5;28;01mif\u001b[39;00m f.endswith(\u001b[33m\"\u001b[39m\u001b[33m.jpg\u001b[39m\u001b[33m\"\u001b[39m)\n\u001b[32m     21\u001b[39m ]\n\u001b[32m     23\u001b[39m \u001b[38;5;66;03m# 对每张图进行增强\u001b[39;00m\n\u001b[32m---> \u001b[39m\u001b[32m24\u001b[39m \u001b[38;5;28;01mfor\u001b[39;00m filename \u001b[38;5;129;01min\u001b[39;00m \u001b[43mtqdm\u001b[49m(input_images):\n\u001b[32m     25\u001b[39m     \u001b[38;5;66;03m# 1. 原图保存\u001b[39;00m\n\u001b[32m     26\u001b[39m     image, boxes, class_labels, _, _ = aug.load_image_and_boxes(filename)\n\u001b[32m     27\u001b[39m     aug.save_augmented(image, boxes, class_labels, filename)\n",
      "\u001b[31mNameError\u001b[39m: name 'tqdm' is not defined"
     ]
    }
   ],
   "source": [
    "import augment_utils as aug\n",
    "from tqdm import tqdm\n",
    "\n",
    "\n",
    "aug.INPUT_DIR = 'TwoStageYOLODataset/original'\n",
    "aug.OUTPUT_DIR = 'TwoStageYOLODataset/augmented'\n",
    "\n",
    "AUG_FUNCTIONS = [\n",
    "    aug.add_gaussian_noise,\n",
    "    aug.adjust_random_brightness,\n",
    "    aug.add_black_rect,\n",
    "    aug.horizontal_flip,\n",
    "    aug.random_rotate,\n",
    "    aug.random_scale_with_padding,\n",
    "]\n",
    "\n",
    "\n",
    "# 获取所有图片名（不带扩展名）\n",
    "input_images = [\n",
    "    os.path.splitext(f)[0]\n",
    "    for f in os.listdir(os.path.join(aug.INPUT_DIR, \"images\"))\n",
    "    if f.endswith(\".jpg\")\n",
    "]\n",
    "\n",
    "# 对每张图进行增强\n",
    "for filename in tqdm(input_images):\n",
    "    # 1. 原图保存\n",
    "    image, boxes, class_labels, _, _ = aug.load_image_and_boxes(filename)\n",
    "    aug.save_augmented(image, boxes, class_labels, filename)\n",
    "\n",
    "    # 2. 所有6选4组合增强\n",
    "    for combo in itertools.combinations(AUG_FUNCTIONS, 4):\n",
    "        # 从原图开始依次增强\n",
    "        temp_filename = filename\n",
    "        image, boxes, class_labels, _, _ = aug.load_image_and_boxes(temp_filename)\n",
    "\n",
    "        for func in combo:\n",
    "            # 修改函数以支持传 image/boxes/class_labels 是更复杂的工作，这里重新从文件加载（确保函数独立）\n",
    "            func(temp_filename)  # 每个函数会自动保存带 hash 的增强版本\n"
   ]
  }
 ],
 "metadata": {
  "kernelspec": {
   "display_name": "base",
   "language": "python",
   "name": "python3"
  },
  "language_info": {
   "codemirror_mode": {
    "name": "ipython",
    "version": 3
   },
   "file_extension": ".py",
   "mimetype": "text/x-python",
   "name": "python",
   "nbconvert_exporter": "python",
   "pygments_lexer": "ipython3",
   "version": "3.12.7"
  }
 },
 "nbformat": 4,
 "nbformat_minor": 5
}
