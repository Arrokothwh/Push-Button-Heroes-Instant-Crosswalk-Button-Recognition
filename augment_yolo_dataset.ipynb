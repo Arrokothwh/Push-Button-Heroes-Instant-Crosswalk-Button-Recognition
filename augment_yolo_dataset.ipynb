{
 "cells": [
  {
   "cell_type": "markdown",
   "id": "bb20c355",
   "metadata": {},
   "source": [
    "## Notebook for augmenting images used for first stage YOLO model of 2-stage model pipline"
   ]
  },
  {
   "cell_type": "code",
   "execution_count": 6,
   "id": "67a1dc0d",
   "metadata": {},
   "outputs": [
    {
     "name": "stdout",
     "output_type": "stream",
     "text": [
      "🔍 图像总数: 138\n",
      "📝 标签总数: 138\n",
      "\n",
      "📸 有图像但没有标签的数量: 0\n",
      "\n",
      "🗂️ 有标签但没有图像的数量: 0\n"
     ]
    }
   ],
   "source": [
    "# Check if all image have label or vice versa\n",
    "import os\n",
    "\n",
    "image_dir = \"TwoStageYOLODataset/original/images\"\n",
    "label_dir = \"TwoStageYOLODataset/original/labels\"\n",
    "\n",
    "# 获取不含扩展名的文件名集合\n",
    "image_files = {os.path.splitext(f)[0] for f in os.listdir(image_dir) if f.lower().endswith(('.jpg', '.png'))}\n",
    "label_files = {os.path.splitext(f)[0] for f in os.listdir(label_dir) if f.lower().endswith('.txt')}\n",
    "\n",
    "# 差集\n",
    "images_without_labels = image_files - label_files\n",
    "labels_without_images = label_files - image_files\n",
    "\n",
    "# 打印结果\n",
    "print(f\"🔍 图像总数: {len(image_files)}\")\n",
    "print(f\"📝 标签总数: {len(label_files)}\\n\")\n",
    "\n",
    "print(f\"📸 有图像但没有标签的数量: {len(images_without_labels)}\")\n",
    "for name in sorted(images_without_labels):\n",
    "    print(f\" - {name}.jpg\")\n",
    "\n",
    "print(f\"\\n🗂️ 有标签但没有图像的数量: {len(labels_without_images)}\")\n",
    "for name in sorted(labels_without_images):\n",
    "    print(f\" - {name}.txt\")\n"
   ]
  },
  {
   "cell_type": "code",
   "execution_count": 7,
   "id": "fd633414",
   "metadata": {},
   "outputs": [
    {
     "data": {
      "application/vnd.jupyter.widget-view+json": {
       "model_id": "7774896b448f43ce868d2b121e357e5a",
       "version_major": 2,
       "version_minor": 0
      },
      "text/plain": [
       "  0%|          | 0/138 [00:00<?, ?it/s]"
      ]
     },
     "metadata": {},
     "output_type": "display_data"
    }
   ],
   "source": [
    "import os\n",
    "import itertools\n",
    "from tqdm.notebook import tqdm\n",
    "import augment_utils as aug\n",
    "from concurrent.futures import ThreadPoolExecutor\n",
    "\n",
    "aug.INPUT_DIR = 'TwoStageYOLODataset/original'\n",
    "aug.OUTPUT_DIR = 'TwoStageYOLODataset/augmented'\n",
    "\n",
    "AUG_FUNCTIONS = [\n",
    "    aug.add_gaussian_noise,\n",
    "    aug.adjust_random_brightness,\n",
    "    aug.add_black_rect,\n",
    "    aug.horizontal_flip,\n",
    "    aug.random_rotate,\n",
    "    aug.random_scale_with_padding,\n",
    "]\n",
    "\n",
    "\n",
    "# 获取所有图片名（不带扩展名）\n",
    "input_images = [\n",
    "    os.path.splitext(f)[0]\n",
    "    for f in os.listdir(os.path.join(aug.INPUT_DIR, \"images\"))\n",
    "    if f.endswith(\".jpg\")\n",
    "]\n",
    "\n",
    "# # 对每张图进行增强\n",
    "# for filename in tqdm(input_images):\n",
    "#     # 1. 原图保存\n",
    "#     image, boxes, class_labels, _, _ = aug.load_image_and_boxes(filename)\n",
    "#     aug.save_augmented(image, boxes, class_labels, filename)\n",
    "\n",
    "#     # 2. 所有6选4组合增强\n",
    "#     for combo in itertools.combinations(AUG_FUNCTIONS, 4):\n",
    "#         # 从原图开始依次增强\n",
    "#         temp_filename = filename\n",
    "#         image, boxes, class_labels, _, _ = aug.load_image_and_boxes(temp_filename)\n",
    "\n",
    "#         for func in combo:\n",
    "#             # 修改函数以支持传 image/boxes/class_labels 是更复杂的工作，这里重新从文件加载（确保函数独立）\n",
    "#             func(temp_filename)  # 每个函数会自动保存带 hash 的增强版本\n",
    "\n",
    "\n",
    "# 每张图像的增强逻辑，供线程调用\n",
    "def process_one_image(filename):\n",
    "    try:\n",
    "        # 保存原图\n",
    "        image, boxes, class_labels, _, _ = aug.load_image_and_boxes(filename)\n",
    "        aug.save_augmented(image, boxes, class_labels, filename)\n",
    "\n",
    "        # 生成所有 6 选 5 的组合\n",
    "        combos = list(itertools.combinations(AUG_FUNCTIONS, 5))\n",
    "        for combo in combos:\n",
    "            for func in combo:\n",
    "                func(filename)  # 每个函数内部自己保存带 hash+timestamp 的结果\n",
    "    except Exception as e:\n",
    "        print(f\"[ERROR] {filename} failed: {e}\")\n",
    "\n",
    "# 使用 ThreadPoolExecutor 加速\n",
    "with ThreadPoolExecutor(max_workers=20) as executor:\n",
    "    list(tqdm(executor.map(process_one_image, input_images), total=len(input_images)))"
   ]
  },
  {
   "cell_type": "code",
   "execution_count": null,
   "id": "3a0f8455",
   "metadata": {},
   "outputs": [
    {
     "data": {
      "application/vnd.jupyter.widget-view+json": {
       "model_id": "11da80ed86a74134b80276eda5b35547",
       "version_major": 2,
       "version_minor": 0
      },
      "text/plain": [
       "  0%|          | 0/138 [00:00<?, ?it/s]"
      ]
     },
     "metadata": {},
     "output_type": "display_data"
    }
   ],
   "source": [
    "import os, itertools, copy\n",
    "from concurrent.futures import ThreadPoolExecutor\n",
    "from tqdm.notebook import tqdm\n",
    "import augment_utils_chain as aug\n",
    "\n",
    "# 设置数据目录\n",
    "aug.INPUT_DIR  = \"TwoStageYOLODataset/original\"\n",
    "aug.OUTPUT_DIR = \"TwoStageYOLODataset/augmented\"\n",
    "\n",
    "# 6 个可链式增强函数\n",
    "AUG_FUNCS = [\n",
    "    aug.add_gaussian_noise,\n",
    "    aug.adjust_random_brightness,\n",
    "    aug.add_black_rect,\n",
    "    aug.horizontal_flip,\n",
    "    aug.random_rotate,\n",
    "    aug.random_scale_with_padding,\n",
    "]\n",
    "\n",
    "# Dont want these two operations to be done together as they might ruin the picture\n",
    "bad_pair = {aug.add_gaussian_noise, aug.random_scale_with_padding}\n",
    "\n",
    "\n",
    "# 图片列表（无扩展名）\n",
    "imgs = [\n",
    "    os.path.splitext(f)[0]\n",
    "    for f in os.listdir(os.path.join(aug.INPUT_DIR, \"images\"))\n",
    "    if f.lower().endswith(\".jpg\")\n",
    "]\n",
    "\n",
    "# 处理单张图片 → 7 份\n",
    "def process_one(name):\n",
    "    try:\n",
    "        # 1. 保存原图\n",
    "        img, boxes, cls, _, _ = aug.load_image_and_boxes(name)\n",
    "        aug.save_augmented(img, boxes, cls, name)\n",
    "\n",
    "        # 2. 链式增强：6 选 4 = 15 种\n",
    "        for combo in itertools.combinations(AUG_FUNCS, 4):\n",
    "            if bad_pair.issubset(combo):\n",
    "                continue\n",
    "\n",
    "            img_aug, boxes_aug, cls_aug = copy.deepcopy(img), copy.deepcopy(boxes), cls\n",
    "            for fn in combo:                               # 链式执行\n",
    "                img_aug, boxes_aug, cls_aug = fn(img_aug, boxes_aug, cls_aug)\n",
    "            aug.save_augmented(img_aug, boxes_aug, cls_aug, name)\n",
    "    except Exception as e:\n",
    "        print(f\"[ERROR] {name}: {e}\")\n",
    "\n",
    "# 20 线程并发\n",
    "with ThreadPoolExecutor(max_workers=20) as ex:\n",
    "    list(tqdm(ex.map(process_one, imgs), total=len(imgs)))"
   ]
  }
 ],
 "metadata": {
  "kernelspec": {
   "display_name": "base",
   "language": "python",
   "name": "python3"
  },
  "language_info": {
   "codemirror_mode": {
    "name": "ipython",
    "version": 3
   },
   "file_extension": ".py",
   "mimetype": "text/x-python",
   "name": "python",
   "nbconvert_exporter": "python",
   "pygments_lexer": "ipython3",
   "version": "3.12.7"
  }
 },
 "nbformat": 4,
 "nbformat_minor": 5
}
