{
 "cells": [
  {
   "cell_type": "markdown",
   "id": "bb20c355",
   "metadata": {},
   "source": [
    "## Notebook for augmenting images used for first stage YOLO model of 2-stage model pipline"
   ]
  },
  {
   "cell_type": "code",
   "execution_count": 8,
   "id": "aad46aac",
   "metadata": {},
   "outputs": [],
   "source": [
    "import os\n",
    "import cv2\n",
    "import numpy as np\n",
    "import hashlib\n",
    "import random\n",
    "import albumentations as A\n",
    "from albumentations.pytorch import ToTensorV2\n",
    "\n",
    "INPUT_DIR = '/path/to/input'\n",
    "OUTPUT_DIR = '/path/to/output'\n"
   ]
  },
  {
   "cell_type": "code",
   "execution_count": null,
   "id": "b9a7af75",
   "metadata": {},
   "outputs": [],
   "source": [
    "# Helper functions\n",
    "def load_image_and_boxes(filename):\n",
    "    img_path = os.path.join(INPUT_DIR, \"images\", filename + \".jpg\")\n",
    "    txt_path = os.path.join(INPUT_DIR, \"labels\", filename + \".txt\")\n",
    "\n",
    "    image = cv2.imread(img_path)\n",
    "    height, width = image.shape[:2]\n",
    "\n",
    "    boxes = []\n",
    "    class_labels = []\n",
    "    with open(txt_path, 'r') as f:\n",
    "        for line in f:\n",
    "            cls, x, y, w, h = map(float, line.strip().split())\n",
    "            # 转为 [x_min, y_min, x_max, y_max]\n",
    "            xmin = (x - w / 2) * width\n",
    "            ymin = (y - h / 2) * height\n",
    "            xmax = (x + w / 2) * width\n",
    "            ymax = (y + h / 2) * height\n",
    "            boxes.append([xmin, ymin, xmax, ymax])\n",
    "            class_labels.append(int(cls))\n",
    "    return image, boxes, class_labels, width, height\n",
    "\n",
    "def save_augmented(image, boxes, class_labels, filename):\n",
    "    hash_code = hashlib.md5(image.tobytes()).hexdigest()[:4]\n",
    "    new_filename = f\"{os.path.splitext(filename)[0]}-{hash_code}\"\n",
    "\n",
    "    image_out_path = os.path.join(OUTPUT_DIR, 'images', new_filename + \".jpg\")\n",
    "    label_out_path = os.path.join(OUTPUT_DIR, 'labels', new_filename + \".txt\")\n",
    "\n",
    "    os.makedirs(os.path.dirname(image_out_path), exist_ok=True)\n",
    "    os.makedirs(os.path.dirname(label_out_path), exist_ok=True)\n",
    "\n",
    "    height, width = image.shape[:2]\n",
    "    cv2.imwrite(image_out_path, image)\n",
    "\n",
    "    with open(label_out_path, 'w') as f:\n",
    "        for cls, box in zip(class_labels, boxes):\n",
    "            x_min, y_min, x_max, y_max = box\n",
    "            # 转为YOLO格式\n",
    "            x_center = ((x_min + x_max) / 2) / width\n",
    "            y_center = ((y_min + y_max) / 2) / height\n",
    "            w = (x_max - x_min) / width\n",
    "            h = (y_max - y_min) / height\n",
    "            f.write(f\"{cls} {x_center:.6f} {y_center:.6f} {w:.6f} {h:.6f}\\n\")\n",
    "\n",
    "\n"
   ]
  },
  {
   "cell_type": "code",
   "execution_count": null,
   "id": "73abaacb",
   "metadata": {},
   "outputs": [],
   "source": [
    "# Add Gaussian noise\n",
    "def add_gaussian_noise(filename):\n",
    "    image, boxes, class_labels, _, _ = load_image_and_boxes(filename)\n",
    "\n",
    "    noisy = image + np.random.normal(0, 25, image.shape).astype(np.uint8)\n",
    "    noisy = np.clip(noisy, 0, 255).astype(np.uint8)\n",
    "\n",
    "    save_augmented(noisy, boxes, class_labels, filename)\n"
   ]
  },
  {
   "cell_type": "code",
   "execution_count": null,
   "id": "5240e49f",
   "metadata": {},
   "outputs": [],
   "source": [
    "# Adj Brightness\n",
    "def adjust_random_brightness(filename):\n",
    "    image, boxes, class_labels, _, _ = load_image_and_boxes(filename)\n",
    "\n",
    "    factor = random.uniform(0.5, 1.5)\n",
    "    bright = np.clip(image.astype(np.float32) * factor, 0, 255).astype(np.uint8)\n",
    "\n",
    "    save_augmented(bright, boxes, class_labels, filename)\n"
   ]
  },
  {
   "cell_type": "code",
   "execution_count": null,
   "id": "6808872e",
   "metadata": {},
   "outputs": [],
   "source": [
    "# Block out random chunk\n",
    "\n",
    "def add_black_rect(filename):\n",
    "    image, boxes, class_labels, width, height = load_image_and_boxes(filename)\n",
    "\n",
    "    max_attempts = 10\n",
    "    for _ in range(max_attempts):\n",
    "        rect_w = random.randint(int(0.05 * width), int(0.2 * width))\n",
    "        rect_h = random.randint(int(0.05 * height), int(0.2 * height))\n",
    "        x1 = random.randint(0, width - rect_w)\n",
    "        y1 = random.randint(0, height - rect_h)\n",
    "        x2 = x1 + rect_w\n",
    "        y2 = y1 + rect_h\n",
    "\n",
    "        overlap = False\n",
    "        for box in boxes:\n",
    "            xmin, ymin, xmax, ymax = box\n",
    "            if not (x2 < xmin or x1 > xmax or y2 < ymin or y1 > ymax):\n",
    "                overlap = True\n",
    "                break\n",
    "        if not overlap:\n",
    "            image[y1:y2, x1:x2] = 0\n",
    "            break\n",
    "\n",
    "    save_augmented(image, boxes, class_labels, filename)\n"
   ]
  },
  {
   "cell_type": "code",
   "execution_count": null,
   "id": "f20087e6",
   "metadata": {},
   "outputs": [],
   "source": [
    "# Horizontal flip\n",
    "\n",
    "def horizontal_flip(filename):\n",
    "    image, boxes, class_labels, w, h = load_image_and_boxes(filename)\n",
    "\n",
    "    transform = A.Compose([\n",
    "        A.HorizontalFlip(p=1.0),\n",
    "    ], bbox_params=A.BboxParams(format='pascal_voc', label_fields=['class_labels']))\n",
    "\n",
    "    augmented = transform(image=image, bboxes=boxes, class_labels=class_labels)\n",
    "\n",
    "    save_augmented(augmented['image'], augmented['bboxes'], augmented['class_labels'], filename)\n"
   ]
  },
  {
   "cell_type": "code",
   "execution_count": null,
   "id": "925df8fd",
   "metadata": {},
   "outputs": [],
   "source": [
    "# random rotate\n",
    "def random_rotate(filename):\n",
    "    image, boxes, class_labels, w, h = load_image_and_boxes(filename)\n",
    "\n",
    "    transform = A.Compose([\n",
    "        A.Rotate(limit=30, border_mode=cv2.BORDER_CONSTANT, value=0, p=1.0),\n",
    "    ], bbox_params=A.BboxParams(format='pascal_voc', label_fields=['class_labels']))\n",
    "\n",
    "    augmented = transform(image=image, bboxes=boxes, class_labels=class_labels)\n",
    "\n",
    "    save_augmented(augmented['image'], augmented['bboxes'], augmented['class_labels'], filename)\n"
   ]
  },
  {
   "cell_type": "code",
   "execution_count": null,
   "id": "33c9fd87",
   "metadata": {},
   "outputs": [],
   "source": [
    "# random scale\n",
    "def random_scale_with_padding(filename):\n",
    "    image, boxes, class_labels, w, h = load_image_and_boxes(filename)\n",
    "\n",
    "    transform = A.Compose([\n",
    "        A.RandomScale(scale_limit=(0.5, 1.5), p=1.0),\n",
    "        A.PadIfNeeded(min_height=h, min_width=w, border_mode=cv2.BORDER_CONSTANT, value=0, p=1.0),\n",
    "    ], bbox_params=A.BboxParams(format='pascal_voc', label_fields=['class_labels']))\n",
    "\n",
    "    augmented = transform(image=image, bboxes=boxes, class_labels=class_labels)\n",
    "\n",
    "    save_augmented(augmented['image'], augmented['bboxes'], augmented['class_labels'], filename)\n"
   ]
  }
 ],
 "metadata": {
  "kernelspec": {
   "display_name": "base",
   "language": "python",
   "name": "python3"
  },
  "language_info": {
   "codemirror_mode": {
    "name": "ipython",
    "version": 3
   },
   "file_extension": ".py",
   "mimetype": "text/x-python",
   "name": "python",
   "nbconvert_exporter": "python",
   "pygments_lexer": "ipython3",
   "version": "3.12.7"
  }
 },
 "nbformat": 4,
 "nbformat_minor": 5
}
