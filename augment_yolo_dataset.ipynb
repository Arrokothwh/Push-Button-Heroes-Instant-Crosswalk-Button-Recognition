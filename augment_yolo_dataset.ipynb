{
 "cells": [
  {
   "cell_type": "markdown",
   "id": "bb20c355",
   "metadata": {},
   "source": [
    "## Notebook for augmenting images used for first stage YOLO model of 2-stage model pipline"
   ]
  },
  {
   "cell_type": "code",
   "execution_count": 11,
   "id": "4dc7983d",
   "metadata": {},
   "outputs": [
    {
     "name": "stdout",
     "output_type": "stream",
     "text": [
      "Defaulting to user installation because normal site-packages is not writeable\n",
      "Requirement already satisfied: tqdm in c:\\users\\yuzhi\\appdata\\roaming\\python\\python312\\site-packages (4.67.1)\n",
      "Requirement already satisfied: colorama in c:\\users\\yuzhi\\appdata\\roaming\\python\\python312\\site-packages (from tqdm) (0.4.6)\n",
      "Note: you may need to restart the kernel to use updated packages.\n"
     ]
    }
   ],
   "source": [
    "pip install tqdm"
   ]
  },
  {
   "cell_type": "code",
   "execution_count": null,
   "id": "67a1dc0d",
   "metadata": {},
   "outputs": [
    {
     "data": {
      "application/vnd.jupyter.widget-view+json": {
       "model_id": "6a8f90765cf641c6a3e80882e37ef896",
       "version_major": 2,
       "version_minor": 0
      },
      "text/plain": [
       "  0%|          | 0/138 [00:00<?, ?it/s]"
      ]
     },
     "metadata": {},
     "output_type": "display_data"
    },
    {
     "name": "stderr",
     "output_type": "stream",
     "text": [
      "c:\\Users\\Yuzhi\\OneDrive\\493Proj\\CSE493G-Project\\augment_utils.py:138: UserWarning: Argument(s) 'value' are not valid for transform Rotate\n",
      "  A.Rotate(limit=30, border_mode=cv2.BORDER_CONSTANT, value=0, p=1.0),\n",
      "c:\\Users\\Yuzhi\\OneDrive\\493Proj\\CSE493G-Project\\augment_utils.py:160: UserWarning: Argument(s) 'mode, cval' are not valid for transform Affine\n",
      "  A.Affine(scale=scale_factor, fit_output=True, mode=cv2.BORDER_CONSTANT, cval=0),\n",
      "c:\\Users\\Yuzhi\\OneDrive\\493Proj\\CSE493G-Project\\augment_utils.py:161: UserWarning: Argument(s) 'value' are not valid for transform PadIfNeeded\n",
      "  A.PadIfNeeded(min_height=h, min_width=w, border_mode=cv2.BORDER_CONSTANT, value=0, p=1.0),\n"
     ]
    }
   ],
   "source": [
    "import os\n",
    "import itertools\n",
    "from tqdm.notebook import tqdm\n",
    "import augment_utils as aug\n",
    "from concurrent.futures import ThreadPoolExecutor\n",
    "\n",
    "aug.INPUT_DIR = 'TwoStageYOLODataset/original'\n",
    "aug.OUTPUT_DIR = 'TwoStageYOLODataset/augmented'\n",
    "\n",
    "AUG_FUNCTIONS = [\n",
    "    aug.add_gaussian_noise,\n",
    "    aug.adjust_random_brightness,\n",
    "    aug.add_black_rect,\n",
    "    aug.horizontal_flip,\n",
    "    aug.random_rotate,\n",
    "    aug.random_scale_with_padding,\n",
    "]\n",
    "\n",
    "\n",
    "# 获取所有图片名（不带扩展名）\n",
    "input_images = [\n",
    "    os.path.splitext(f)[0]\n",
    "    for f in os.listdir(os.path.join(aug.INPUT_DIR, \"images\"))\n",
    "    if f.endswith(\".jpg\")\n",
    "]\n",
    "\n",
    "# # 对每张图进行增强\n",
    "# for filename in tqdm(input_images):\n",
    "#     # 1. 原图保存\n",
    "#     image, boxes, class_labels, _, _ = aug.load_image_and_boxes(filename)\n",
    "#     aug.save_augmented(image, boxes, class_labels, filename)\n",
    "\n",
    "#     # 2. 所有6选4组合增强\n",
    "#     for combo in itertools.combinations(AUG_FUNCTIONS, 4):\n",
    "#         # 从原图开始依次增强\n",
    "#         temp_filename = filename\n",
    "#         image, boxes, class_labels, _, _ = aug.load_image_and_boxes(temp_filename)\n",
    "\n",
    "#         for func in combo:\n",
    "#             # 修改函数以支持传 image/boxes/class_labels 是更复杂的工作，这里重新从文件加载（确保函数独立）\n",
    "#             func(temp_filename)  # 每个函数会自动保存带 hash 的增强版本\n",
    "\n",
    "\n",
    "# 每张图像的增强逻辑，供线程调用\n",
    "def process_one_image(filename):\n",
    "    try:\n",
    "        # 保存原图\n",
    "        image, boxes, class_labels, _, _ = aug.load_image_and_boxes(filename)\n",
    "        aug.save_augmented(image, boxes, class_labels, filename)\n",
    "\n",
    "        # 生成所有 6 选 4 的组合\n",
    "        combos = list(itertools.combinations(AUG_FUNCTIONS, 4))\n",
    "        for combo in combos:\n",
    "            for func in combo:\n",
    "                func(filename)  # 每个函数内部自己保存带 hash+timestamp 的结果\n",
    "    except Exception as e:\n",
    "        print(f\"[ERROR] {filename} failed: {e}\")\n",
    "\n",
    "# 使用 ThreadPoolExecutor 加速\n",
    "with ThreadPoolExecutor(max_workers=20) as executor:\n",
    "    list(tqdm(executor.map(process_one_image, input_images), total=len(input_images)))"
   ]
  }
 ],
 "metadata": {
  "kernelspec": {
   "display_name": "base",
   "language": "python",
   "name": "python3"
  },
  "language_info": {
   "codemirror_mode": {
    "name": "ipython",
    "version": 3
   },
   "file_extension": ".py",
   "mimetype": "text/x-python",
   "name": "python",
   "nbconvert_exporter": "python",
   "pygments_lexer": "ipython3",
   "version": "3.12.7"
  }
 },
 "nbformat": 4,
 "nbformat_minor": 5
}
