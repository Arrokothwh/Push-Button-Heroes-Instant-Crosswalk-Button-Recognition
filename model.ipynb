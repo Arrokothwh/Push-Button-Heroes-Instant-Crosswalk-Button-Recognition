{
 "cells": [
  {
   "cell_type": "markdown",
   "id": "b694f760",
   "metadata": {
    "slideshow": {
     "slide_type": "fragment"
    }
   },
   "source": [
    "Download torch and torchvision"
   ]
  },
  {
   "cell_type": "code",
   "execution_count": null,
   "id": "290cfc23",
   "metadata": {},
   "outputs": [],
   "source": [
    "# pip install torch"
   ]
  },
  {
   "cell_type": "code",
   "execution_count": null,
   "id": "8033a919",
   "metadata": {},
   "outputs": [],
   "source": [
    "# pip install torchvision"
   ]
  },
  {
   "cell_type": "markdown",
   "id": "63796d8e",
   "metadata": {},
   "source": [
    "Initialization"
   ]
  },
  {
   "cell_type": "code",
   "execution_count": 8,
   "id": "b5217f9c",
   "metadata": {},
   "outputs": [
    {
     "name": "stdout",
     "output_type": "stream",
     "text": [
      "GPU: NVIDIA GeForce RTX 4080 is available.\n"
     ]
    }
   ],
   "source": [
    "import torch\n",
    "import torch.nn as nn\n",
    "import torch.optim as optim\n",
    "from torch.utils.data import DataLoader\n",
    "from torch.utils.data import sampler\n",
    "\n",
    "\n",
    "import torchvision.datasets as dset\n",
    "from torch.utils.data import DataLoader, SubsetRandomSampler\n",
    "from torchvision.transforms import v2\n",
    "\n",
    "import numpy as np\n",
    "\n",
    "USE_GPU = True\n",
    "dtype = torch.float32 \n",
    "if torch.cuda.is_available():\n",
    "    device = torch.device('cuda')\n",
    "    print(f\"GPU: {torch.cuda.get_device_name(0)} is available.\")\n",
    "else:\n",
    "    device = torch.device('cpu')\n",
    "    print(\"No GPU available. Training will run on CPU.\")\n",
    "\n",
    "\n",
    "# Constant to control how frequently we print train loss.\n",
    "print_every = 100"
   ]
  },
  {
   "cell_type": "markdown",
   "id": "1cb9c952",
   "metadata": {},
   "source": [
    "If the output is \"using device: cpu\": download CUDA toolkit (https://developer.nvidia.com/cuda-downloads)\n",
    "https://pytorch.org/get-started/locally/"
   ]
  },
  {
   "cell_type": "code",
   "execution_count": null,
   "id": "350f38c5",
   "metadata": {},
   "outputs": [],
   "source": [
    "# data augmentation\n",
    "transform = v2.Compose([\n",
    "                v2.ToImage(), \n",
    "                v2.ToDtype(torch.float32, scale=True),\n",
    "                v2.RandomVerticalFlip(),\n",
    "                v2.ColorJitter(brightness=(0.5, 1.5), contrast=(0.5, 1.5), saturation=(0.5, 1.5), hue=(-0.3, 0.3)),\n",
    "                v2.RandomChannelPermutation(),\n",
    "                v2.RandomErasing(p=0.5, scale=(0.05, 0.3), ratio=(1, 1), value='random'),\n",
    "                v2.RandomRotation(degrees=30)])\n",
    "\n",
    "# Split dataset -> train, val, test\n",
    "dataset = dset.ImageFolder('ClassificationDataset_label', transform=transform)\n",
    "total_len = len(dataset)\n",
    "\n",
    "NUM_TRAIN = int(0.8 * total_len)\n",
    "NUM_VAL = int(0.1 * total_len)\n",
    "\n",
    "indices = list(range(total_len))\n",
    "train_indices = indices[:NUM_TRAIN]\n",
    "val_indices = indices[NUM_TRAIN:NUM_TRAIN+NUM_VAL]\n",
    "test_indices = indices[NUM_TRAIN+NUM_VAL:]\n",
    "\n",
    "loader_train = DataLoader(dataset, batch_size=128, sampler=SubsetRandomSampler(train_indices))\n",
    "loader_val = DataLoader(dataset, batch_size=64,\n",
    "                        sampler=SubsetRandomSampler(val_indices))\n",
    "loader_test = DataLoader(dataset, batch_size=64,\n",
    "                         sampler=SubsetRandomSampler(test_indices))"
   ]
  },
  {
   "cell_type": "markdown",
   "id": "79cb48a3",
   "metadata": {},
   "source": [
    "Check If load correctly"
   ]
  },
  {
   "cell_type": "code",
   "execution_count": 15,
   "id": "eebdde2a",
   "metadata": {},
   "outputs": [
    {
     "data": {
      "text/plain": [
       "<torch.utils.data.dataloader.DataLoader at 0x1d4e3a4ce50>"
      ]
     },
     "execution_count": 15,
     "metadata": {},
     "output_type": "execute_result"
    }
   ],
   "source": [
    "loader_train"
   ]
  },
  {
   "cell_type": "code",
   "execution_count": 26,
   "id": "a4dee6e2",
   "metadata": {},
   "outputs": [
    {
     "name": "stdout",
     "output_type": "stream",
     "text": [
      "Batch loaded!\n",
      "Images shape: torch.Size([25, 3, 320, 320])\n",
      "Labels: tensor([1, 1, 1, 0, 1, 0, 0, 1, 0, 1, 1, 1, 0, 1, 0, 1, 1, 1, 0, 0, 0, 1, 0, 1,\n",
      "        0])\n"
     ]
    }
   ],
   "source": [
    "for images, labels in loader_val:\n",
    "    print(\"Batch loaded!\")\n",
    "    print(\"Images shape:\", images.shape)\n",
    "    print(\"Labels:\", labels)\n",
    "    break\n"
   ]
  },
  {
   "cell_type": "markdown",
   "id": "25718f53",
   "metadata": {},
   "source": [
    "Model setup"
   ]
  },
  {
   "cell_type": "code",
   "execution_count": 28,
   "id": "1c03682c",
   "metadata": {},
   "outputs": [],
   "source": [
    "import matplotlib.pyplot as plt\n",
    "import torch.nn.functional as F"
   ]
  },
  {
   "cell_type": "code",
   "execution_count": null,
   "id": "082b1402",
   "metadata": {},
   "outputs": [],
   "source": [
    "def check_accuracy_final(loader, model):\n",
    "    num_correct = 0\n",
    "    num_samples = 0\n",
    "    model.eval()\n",
    "    with torch.no_grad():\n",
    "        for x, y in loader:\n",
    "            x = x.to(device=device, dtype=dtype)\n",
    "            y = y.to(device=device, dtype=torch.long)\n",
    "            scores = model(x)\n",
    "            _, preds = scores.max(1)\n",
    "            num_correct += (preds == y).sum()\n",
    "            num_samples += preds.size(0)\n",
    "        acc = float(num_correct) / num_samples\n",
    "        return acc\n",
    "\n",
    "def train(model, optimizer, epochs=10):\n",
    "    x1 = list(range(len(loader_train) * epochs))\n",
    "    x2 = []\n",
    "    y1 = []\n",
    "    y2 = []\n",
    "    model = model.to(device=device)\n",
    "    for e in range(epochs):\n",
    "        for t, (x, y) in enumerate(loader_train):\n",
    "            model.train()\n",
    "            x = x.to(device=device, dtype=dtype)\n",
    "            y = y.to(device=device, dtype=torch.long)\n",
    "\n",
    "            scores = model(x)\n",
    "            loss = F.cross_entropy(scores, y)\n",
    "            optimizer.zero_grad()\n",
    "            loss.backward()\n",
    "            optimizer.step()\n",
    "\n",
    "            y1.append(loss.item())\n",
    "            if t % print_every == 0:\n",
    "                x2.append(e * len(loader_train) + t)\n",
    "                y2.append(check_accuracy_final(loader_val, model))\n",
    "    return (x1, y1, x2, y2)\n",
    "\n",
    "def plotpic(data):\n",
    "  x1, y1, x2, y2 = data\n",
    "  plt.figure()\n",
    "  plt.plot(x1, y1, marker='.')\n",
    "  plt.xlabel('Iteratoin')\n",
    "  plt.ylabel('Loss')\n",
    "  plt.title('Loss')\n",
    "  plt.grid(True)\n",
    "\n",
    "  plt.figure()\n",
    "  plt.plot(x2, y2, marker='o')\n",
    "  plt.xlabel('Iteratoin')\n",
    "  plt.ylabel('Val Acc')\n",
    "  plt.title('Val Acc')\n",
    "  plt.grid(True)\n",
    "  plt.show()"
   ]
  },
  {
   "cell_type": "code",
   "execution_count": 34,
   "id": "55e423ab",
   "metadata": {},
   "outputs": [],
   "source": [
    "model = nn.Sequential(\n",
    "    nn.Conv2d(3, 32, kernel_size=3, padding=1),\n",
    "    nn.BatchNorm2d(32),\n",
    "    nn.ReLU(),\n",
    "    nn.Conv2d(32, 32, kernel_size=3, padding=1),\n",
    "    nn.BatchNorm2d(32),\n",
    "    nn.ReLU(),\n",
    "    nn.MaxPool2d(2, 2),\n",
    "    nn.Dropout(0.4),\n",
    "    \n",
    "    nn.Conv2d(32, 64, kernel_size=3, padding=1),\n",
    "    nn.BatchNorm2d(64),\n",
    "    nn.ReLU(),\n",
    "    nn.Conv2d(64, 64, kernel_size=3, padding=1),\n",
    "    nn.BatchNorm2d(64),\n",
    "    nn.ReLU(),\n",
    "    nn.MaxPool2d(2, 2),\n",
    "    nn.Dropout(0.4),\n",
    "\n",
    "    nn.Conv2d(64, 128, kernel_size=3, padding=1),\n",
    "    nn.BatchNorm2d(128),\n",
    "    nn.ReLU(),\n",
    "    nn.Conv2d(128, 128, kernel_size=3, padding=1),\n",
    "    nn.BatchNorm2d(128),\n",
    "    nn.ReLU(),\n",
    "    nn.MaxPool2d(2, 2),\n",
    "    nn.Dropout(0.4),\n",
    "\n",
    "    nn.Flatten(),\n",
    "    nn.Linear(128 * 40 * 40, 512),\n",
    "    nn.Linear(512, 256),\n",
    ")"
   ]
  },
  {
   "cell_type": "code",
   "execution_count": 35,
   "id": "edecc690",
   "metadata": {},
   "outputs": [],
   "source": [
    "sgdMNb = optim.SGD(model.parameters(), lr=1e-3,\n",
    "                     momentum=0.9, nesterov=True)"
   ]
  },
  {
   "cell_type": "markdown",
   "id": "71a3b47d",
   "metadata": {},
   "source": [
    "Train"
   ]
  },
  {
   "cell_type": "code",
   "execution_count": null,
   "id": "15fb0d2a",
   "metadata": {},
   "outputs": [],
   "source": [
    "data = train(model, sgdMNb, epochs=1)"
   ]
  },
  {
   "cell_type": "code",
   "execution_count": null,
   "id": "5c747e2e",
   "metadata": {},
   "outputs": [],
   "source": [
    "plotpic(data1)"
   ]
  }
 ],
 "metadata": {
  "kernelspec": {
   "display_name": "Python 3",
   "language": "python",
   "name": "python3"
  },
  "language_info": {
   "codemirror_mode": {
    "name": "ipython",
    "version": 3
   },
   "file_extension": ".py",
   "mimetype": "text/x-python",
   "name": "python",
   "nbconvert_exporter": "python",
   "pygments_lexer": "ipython3",
   "version": "3.11.6"
  }
 },
 "nbformat": 4,
 "nbformat_minor": 5
}
