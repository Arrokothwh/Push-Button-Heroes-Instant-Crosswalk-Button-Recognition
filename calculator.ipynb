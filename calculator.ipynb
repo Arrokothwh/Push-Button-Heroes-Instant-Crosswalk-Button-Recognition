{
 "cells": [
  {
   "cell_type": "code",
   "execution_count": null,
   "id": "52b95ae4",
   "metadata": {},
   "outputs": [],
   "source": [
    "from sklearn.metrics import precision_score, recall_score, f1_score\n",
    "\n",
    "def evaluate_binary_classifier(pred_probs, true_labels, threshold=50.0):\n",
    "    \"\"\"\n",
    "    Evaluate binary classifier based on probability predictions and true labels.\n",
    "\n",
    "    Args:\n",
    "        pred_probs (list of float): Prediction probabilities (0–100 scale).\n",
    "        true_labels (list of float or int): Ground truth binary labels (0 or 1).\n",
    "        threshold (float): Threshold to classify as 1 (default 50.0).\n",
    "\n",
    "    Returns:\n",
    "        dict: Precision, Recall, and F1-score.\n",
    "    \"\"\"\n",
    "    binary_preds = [1 if p >= threshold else 0 for p in pred_probs]\n",
    "    precision = precision_score(true_labels, binary_preds)\n",
    "    print(binary_preds)\n",
    "    recall = recall_score(true_labels, binary_preds)\n",
    "    f1 = f1_score(true_labels, binary_preds)\n",
    "\n",
    "    return {\n",
    "        \"Precision\": round(precision, 4),\n",
    "        \"Recall\": round(recall, 4),\n",
    "        \"F1-score\": round(f1, 4)\n",
    "    }\n"
   ]
  },
  {
   "cell_type": "code",
   "execution_count": 2,
   "id": "6d93fb82",
   "metadata": {},
   "outputs": [],
   "source": [
    "pred_probs = [0.0, 0.0, 0.0, 0.0, 0.0, 0.0, 0.0, 99.7, 8.4, 100.0, 100.0, 57.2, 79.1, 61.9]\n",
    "true_labels = [0.0, 0.0, 0.0, 0.0, 0.0, 0.0, 0.0, 1.0, 1.0, 1.0, 1.0, 1.0, 1.0, 1.0]"
   ]
  },
  {
   "cell_type": "code",
   "execution_count": 5,
   "id": "99bfbc75",
   "metadata": {},
   "outputs": [
    {
     "name": "stdout",
     "output_type": "stream",
     "text": [
      "[0, 0, 0, 0, 0, 0, 0, 1, 0, 1, 1, 1, 1, 1]\n"
     ]
    },
    {
     "data": {
      "text/plain": [
       "{'Precision': 1.0, 'Recall': 0.8571, 'F1-score': 0.9231}"
      ]
     },
     "execution_count": 5,
     "metadata": {},
     "output_type": "execute_result"
    }
   ],
   "source": [
    "evaluate_binary_classifier(pred_probs, true_labels)"
   ]
  },
  {
   "cell_type": "code",
   "execution_count": null,
   "id": "02a30628",
   "metadata": {},
   "outputs": [],
   "source": []
  }
 ],
 "metadata": {
  "kernelspec": {
   "display_name": "Python 3",
   "language": "python",
   "name": "python3"
  },
  "language_info": {
   "codemirror_mode": {
    "name": "ipython",
    "version": 3
   },
   "file_extension": ".py",
   "mimetype": "text/x-python",
   "name": "python",
   "nbconvert_exporter": "python",
   "pygments_lexer": "ipython3",
   "version": "3.11.6"
  }
 },
 "nbformat": 4,
 "nbformat_minor": 5
}
