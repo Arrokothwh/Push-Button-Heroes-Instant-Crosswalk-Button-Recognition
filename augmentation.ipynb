{
 "cells": [
  {
   "cell_type": "code",
   "execution_count": null,
   "metadata": {},
   "outputs": [],
   "source": [
    "from torchvision import datasets, transforms\n",
    "from torch.utils.data import DataLoader\n",
    "import torch"
   ]
  },
  {
   "cell_type": "code",
   "execution_count": null,
   "metadata": {},
   "outputs": [],
   "source": [
    "\n",
    "\n",
    "# 1. DataLoader (no normalization! we’re computing it)\n",
    "ds = datasets.ImageFolder(\n",
    "    \"path/to/images\",\n",
    "    transform=transforms.ToTensor()        # yields [0,1] float32 tensor\n",
    ")\n",
    "loader = DataLoader(ds, batch_size=64, num_workers=8, pin_memory=True)\n",
    "\n",
    "# 2. Accumulators\n",
    "sum_c   = torch.zeros(3)   # sum per channel\n",
    "sum_sq  = torch.zeros(3)   # sum of squares per channel\n",
    "n_pix   = 0                # total number of pixels per channel\n",
    "sum_all = 0.0              # sum over all pixels & channels\n",
    "\n",
    "for imgs, _ in loader:\n",
    "    # imgs.shape == (B, C, H, W)\n",
    "    B, C, H, W = imgs.shape\n",
    "    n_pix += B * H * W\n",
    "\n",
    "    # a) per‐channel sums\n",
    "    sum_c   += imgs.sum(dim=[0,2,3])           # shape (C,)\n",
    "    sum_sq  += (imgs*imgs).sum(dim=[0,2,3])    # shape (C,)\n",
    "\n",
    "    # b) overall sum\n",
    "    sum_all += imgs.sum()                      # scalar\n",
    "\n",
    "# 3. Compute means & stds\n",
    "#  — Per‐channel\n",
    "mean_c = sum_c   / n_pix                       # shape (C,)\n",
    "var_c  = sum_sq  / n_pix - mean_c**2\n",
    "std_c  = torch.sqrt(var_c)\n",
    "\n",
    "#  — Global image mean (scalar)\n",
    "#    total pixels×channels = n_pix * C\n",
    "global_mean = sum_all / (n_pix * C)\n",
    "\n",
    "print(\"Per-channel mean:\", mean_c)\n",
    "print(\"Per-channel std: \", std_c)\n",
    "print(\"Global image mean (all pixels & channels):\", global_mean)\n"
   ]
  }
 ],
 "metadata": {
  "language_info": {
   "name": "python"
  }
 },
 "nbformat": 4,
 "nbformat_minor": 2
}
